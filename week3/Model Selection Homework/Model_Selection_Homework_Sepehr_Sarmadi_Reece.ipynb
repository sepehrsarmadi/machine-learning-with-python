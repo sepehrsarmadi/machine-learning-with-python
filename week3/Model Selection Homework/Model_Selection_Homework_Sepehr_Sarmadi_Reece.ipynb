{
 "cells": [
  {
   "cell_type": "markdown",
   "metadata": {},
   "source": [
    "This time we employ the cross validation to figure out the best model for spam filter.\n",
    "\n",
    "**Remark** The objective functions for logistic regression implemented in `sklearn` are:\n",
    "<img src=\"L1.png\">\n",
    "and\n",
    "<img src=\"L2.png\">\n",
    "\n",
    "where\n",
    "- $w$ are the coefficients, which was denoted by $\\beta_i$ in the class.\n",
    "- $c$ is the intercept, which was denoted by $\\beta_0$ in the class. We can change the parameter \"fit_intercept\" to keep or remove it.\n",
    "- $C$ is the inverse of regularization strength. This is opposite to the $\\alpha$ we used in Ridge and Lasso. Smaller values specify stronger regularization.\n",
    "- Therefore the first objective function is of $L_1$ panelty and the second of $L_2$."
   ]
  },
  {
   "cell_type": "markdown",
   "metadata": {},
   "source": [
    "### Problem 1\n",
    "Use the class <code>GridSearchCV</code> to find out the best combination of parameter for logistic regression. (Set <code>cv=5</code> and <code>scoring='accuracy'</code>). "
   ]
  },
  {
   "cell_type": "code",
   "execution_count": 12,
   "metadata": {
    "collapsed": true
   },
   "outputs": [],
   "source": [
    "#from __future__ import print_function\n",
    "import pandas as pd\n",
    "import numpy as np\n",
    "\n",
    "train = pd.read_csv('data/spam_train.csv')\n",
    "#x_train = spam_train_df.iloc[:, :57].values\n",
    "#y_train = spam_train_df.iloc[:, -1].values\n",
    "\n",
    "\n",
    "test = pd.read_csv('data/spam_test.csv')\n",
    "#x_test = spam_test_df.iloc[:, :57].values\n",
    "#y_test = spam_test_df.iloc[:, -1].values"
   ]
  },
  {
   "cell_type": "code",
   "execution_count": 13,
   "metadata": {
    "collapsed": true
   },
   "outputs": [],
   "source": [
    "# rheineke: Very good. I assume you are anticipating the roc_auc problem\n",
    "train[['spam']] = train.spam=='spam'\n",
    "train[['spam']] = 1*train[['spam']]\n",
    "\n",
    "test[['spam']] = test.spam=='spam'\n",
    "test[['spam']] = 1*test[['spam']]\n",
    "\n",
    "# building test/train x and y:\n",
    "\n",
    "x_train = train.iloc[:, 0:57]\n",
    "y_train = train.iloc[:,-1]\n",
    "\n",
    "x_test = test.iloc[:, 0:57]\n",
    "y_test = test.iloc[:,-1]"
   ]
  },
  {
   "cell_type": "code",
   "execution_count": 16,
   "metadata": {
    "collapsed": true
   },
   "outputs": [],
   "source": [
    "grid_param = [{\n",
    "    'penalty': ['l1', 'l2'],\n",
    "    'fit_intercept': [False, True],\n",
    "    'C': np.logspace(-5, 5, 100)\n",
    "}]\n",
    "\n",
    "# Your solution"
   ]
  },
  {
   "cell_type": "code",
   "execution_count": 17,
   "metadata": {
    "collapsed": true
   },
   "outputs": [],
   "source": [
    "from sklearn.model_selection import GridSearchCV\n",
    "\n",
    "from sklearn import linear_model\n",
    "logit = linear_model.LogisticRegression()\n",
    "\n",
    "## fit all models\n",
    "para_search = GridSearchCV(estimator=logit, param_grid=grid_param, scoring='accuracy', cv=5).fit(x_train, y_train)"
   ]
  },
  {
   "cell_type": "markdown",
   "metadata": {},
   "source": [
    "    - What's the best combination?\n",
    "    - What's the best score?\n",
    "    - Refit the best estimator on the whole data set. How many coefficients were reduced to 0?(Hint: the absolute value of coefficients that are smaller than 1e-4.) \n",
    "    - What's the corresponding training error and test error? (Training error is the model performance on spam_train, while test error is the performance on spam_test.)"
   ]
  },
  {
   "cell_type": "code",
   "execution_count": 18,
   "metadata": {},
   "outputs": [
    {
     "data": {
      "text/plain": [
       "LogisticRegression(C=18.307382802953661, class_weight=None, dual=False,\n",
       "          fit_intercept=True, intercept_scaling=1, max_iter=100,\n",
       "          multi_class='ovr', n_jobs=1, penalty='l1', random_state=None,\n",
       "          solver='liblinear', tol=0.0001, verbose=0, warm_start=False)"
      ]
     },
     "execution_count": 18,
     "metadata": {},
     "output_type": "execute_result"
    }
   ],
   "source": [
    "# what's the best estimator?\n",
    "para_search.best_estimator_\n"
   ]
  },
  {
   "cell_type": "code",
   "execution_count": 19,
   "metadata": {},
   "outputs": [
    {
     "name": "stdout",
     "output_type": "stream",
     "text": [
      "0.928695652174\n"
     ]
    }
   ],
   "source": [
    "# what's the best score? \n",
    "print para_search.best_score_"
   ]
  },
  {
   "cell_type": "code",
   "execution_count": 20,
   "metadata": {},
   "outputs": [
    {
     "name": "stdout",
     "output_type": "stream",
     "text": [
      "[[ -3.92887375e-01  -1.94398114e-01   2.22984685e-01   4.50220775e-01\n",
      "    9.97035103e-01   1.16420798e+00   1.58293179e+00   9.84975067e-01\n",
      "    1.24576167e+00   4.36382273e-01  -7.77049963e-01  -4.21781050e-01\n",
      "    1.65179579e-01  -2.05806810e-01   6.24816253e-01   1.10951892e+00\n",
      "    1.13303311e+00   1.05774839e-01   5.14678054e-02   8.16206374e-01\n",
      "    2.44117343e-01   2.49414812e-01   2.91252878e+00   3.14746488e-01\n",
      "   -2.19315764e+00  -1.13309078e+00  -7.31625867e+00   2.64993629e-01\n",
      "   -1.46957256e+00  -2.01957325e+00  -1.47811732e-01   2.50578024e+00\n",
      "   -9.29213616e-01   3.72565060e-01  -1.39231106e+00   1.70858807e+00\n",
      "    0.00000000e+00   1.24868800e+00  -1.50379455e+00  -1.02265976e+00\n",
      "   -1.91449464e+01  -2.13393730e+00  -2.90039470e+00  -1.96836258e+00\n",
      "   -1.02034960e+00  -1.62209977e+00  -3.34756284e-01  -2.15373277e+00\n",
      "   -1.70630950e+00  -7.52200627e-01  -2.42272121e+00   2.24165423e-01\n",
      "    3.19432568e+00   1.43999714e+00   3.50526768e-01   8.51506012e-04\n",
      "    3.84988729e-04]]\n",
      "number of coefficients reduced to 0: 1\n"
     ]
    }
   ],
   "source": [
    "# Refit the best estimator on the whole data set. How many coefficients were reduced to 0? \n",
    "\n",
    "logit_best = para_search.best_estimator_\n",
    "logit_best.fit(x_train, y_train)\n",
    "\n",
    "print logit_best.coef_\n",
    "\n",
    "abs_coef = abs(logit_best.coef_)\n",
    "print 'number of coefficients reduced to 0: %i' %len(abs_coef[abs_coef < 1e-4])\n"
   ]
  },
  {
   "cell_type": "code",
   "execution_count": 21,
   "metadata": {},
   "outputs": [
    {
     "name": "stdout",
     "output_type": "stream",
     "text": [
      "training error for best model: 0.0617\n",
      "test error for best model: 0.0713\n"
     ]
    }
   ],
   "source": [
    "# What's the corresponding training error and test error?\n",
    "\n",
    "training_error = 1-logit_best.score(x_train, y_train)\n",
    "test_error = 1-logit_best.score(x_test, y_test)\n",
    "\n",
    "print 'training error for best model: %.4f' %training_error\n",
    "print 'test error for best model: %.4f' %test_error\n"
   ]
  },
  {
   "cell_type": "markdown",
   "metadata": {},
   "source": [
    "### Problem 2\n",
    "\n",
    "Set *scoring = 'roc_auc'* and search again, what's the best parameters? Fit the best estimator on the spam_train data set. What's the training error and test error?"
   ]
  },
  {
   "cell_type": "code",
   "execution_count": 23,
   "metadata": {
    "collapsed": true
   },
   "outputs": [],
   "source": [
    "### your solution\n",
    "\n",
    "para_search = GridSearchCV(estimator=logit, param_grid=grid_param, scoring='roc_auc', cv=5).fit(x_train, y_train)\n"
   ]
  },
  {
   "cell_type": "code",
   "execution_count": 24,
   "metadata": {},
   "outputs": [
    {
     "data": {
      "text/plain": [
       "LogisticRegression(C=1.4174741629268048, class_weight=None, dual=False,\n",
       "          fit_intercept=True, intercept_scaling=1, max_iter=100,\n",
       "          multi_class='ovr', n_jobs=1, penalty='l1', random_state=None,\n",
       "          solver='liblinear', tol=0.0001, verbose=0, warm_start=False)"
      ]
     },
     "execution_count": 24,
     "metadata": {},
     "output_type": "execute_result"
    }
   ],
   "source": [
    "# what are the best parameters?\n",
    "para_search.best_estimator_\n"
   ]
  },
  {
   "cell_type": "code",
   "execution_count": 25,
   "metadata": {},
   "outputs": [
    {
     "name": "stdout",
     "output_type": "stream",
     "text": [
      "training error for best model: 0.0639\n",
      "test error for best model: 0.0717\n"
     ]
    }
   ],
   "source": [
    "# Fit the best estimator on the spam_train data set. What's the training error and test error?\n",
    "\n",
    "logit_best = para_search.best_estimator_\n",
    "logit_best.fit(x_train, y_train)\n",
    "\n",
    "training_error = 1-logit_best.score(x_train, y_train)\n",
    "test_error = 1-logit_best.score(x_test, y_test)\n",
    "\n",
    "print 'training error for best model: %.4f' %training_error\n",
    "print 'test error for best model: %.4f' %test_error"
   ]
  },
  {
   "cell_type": "markdown",
   "metadata": {},
   "source": [
    "### Problem 3\n",
    "\n",
    "In this exercise, we will predict the number of applications received(*Apps*) using the other variables in the College data set.\n",
    "\n",
    "The features and the target variable are prepared as $x$ and $y$."
   ]
  },
  {
   "cell_type": "code",
   "execution_count": 26,
   "metadata": {},
   "outputs": [
    {
     "name": "stdout",
     "output_type": "stream",
     "text": [
      "(777, 18)\n"
     ]
    },
    {
     "data": {
      "text/html": [
       "<div>\n",
       "<style>\n",
       "    .dataframe thead tr:only-child th {\n",
       "        text-align: right;\n",
       "    }\n",
       "\n",
       "    .dataframe thead th {\n",
       "        text-align: left;\n",
       "    }\n",
       "\n",
       "    .dataframe tbody tr th {\n",
       "        vertical-align: top;\n",
       "    }\n",
       "</style>\n",
       "<table border=\"1\" class=\"dataframe\">\n",
       "  <thead>\n",
       "    <tr style=\"text-align: right;\">\n",
       "      <th></th>\n",
       "      <th>Private</th>\n",
       "      <th>Apps</th>\n",
       "      <th>Accept</th>\n",
       "      <th>Enroll</th>\n",
       "      <th>Top10perc</th>\n",
       "      <th>Top25perc</th>\n",
       "      <th>F.Undergrad</th>\n",
       "      <th>P.Undergrad</th>\n",
       "      <th>Outstate</th>\n",
       "      <th>Room.Board</th>\n",
       "      <th>Books</th>\n",
       "      <th>Personal</th>\n",
       "      <th>PhD</th>\n",
       "      <th>Terminal</th>\n",
       "      <th>S.F.Ratio</th>\n",
       "      <th>perc.alumni</th>\n",
       "      <th>Expend</th>\n",
       "      <th>Grad.Rate</th>\n",
       "    </tr>\n",
       "  </thead>\n",
       "  <tbody>\n",
       "    <tr>\n",
       "      <th>0</th>\n",
       "      <td>Yes</td>\n",
       "      <td>1660</td>\n",
       "      <td>1232</td>\n",
       "      <td>721</td>\n",
       "      <td>23</td>\n",
       "      <td>52</td>\n",
       "      <td>2885</td>\n",
       "      <td>537</td>\n",
       "      <td>7440</td>\n",
       "      <td>3300</td>\n",
       "      <td>450</td>\n",
       "      <td>2200</td>\n",
       "      <td>70</td>\n",
       "      <td>78</td>\n",
       "      <td>18.1</td>\n",
       "      <td>12</td>\n",
       "      <td>7041</td>\n",
       "      <td>60</td>\n",
       "    </tr>\n",
       "    <tr>\n",
       "      <th>1</th>\n",
       "      <td>Yes</td>\n",
       "      <td>2186</td>\n",
       "      <td>1924</td>\n",
       "      <td>512</td>\n",
       "      <td>16</td>\n",
       "      <td>29</td>\n",
       "      <td>2683</td>\n",
       "      <td>1227</td>\n",
       "      <td>12280</td>\n",
       "      <td>6450</td>\n",
       "      <td>750</td>\n",
       "      <td>1500</td>\n",
       "      <td>29</td>\n",
       "      <td>30</td>\n",
       "      <td>12.2</td>\n",
       "      <td>16</td>\n",
       "      <td>10527</td>\n",
       "      <td>56</td>\n",
       "    </tr>\n",
       "    <tr>\n",
       "      <th>2</th>\n",
       "      <td>Yes</td>\n",
       "      <td>1428</td>\n",
       "      <td>1097</td>\n",
       "      <td>336</td>\n",
       "      <td>22</td>\n",
       "      <td>50</td>\n",
       "      <td>1036</td>\n",
       "      <td>99</td>\n",
       "      <td>11250</td>\n",
       "      <td>3750</td>\n",
       "      <td>400</td>\n",
       "      <td>1165</td>\n",
       "      <td>53</td>\n",
       "      <td>66</td>\n",
       "      <td>12.9</td>\n",
       "      <td>30</td>\n",
       "      <td>8735</td>\n",
       "      <td>54</td>\n",
       "    </tr>\n",
       "    <tr>\n",
       "      <th>3</th>\n",
       "      <td>Yes</td>\n",
       "      <td>417</td>\n",
       "      <td>349</td>\n",
       "      <td>137</td>\n",
       "      <td>60</td>\n",
       "      <td>89</td>\n",
       "      <td>510</td>\n",
       "      <td>63</td>\n",
       "      <td>12960</td>\n",
       "      <td>5450</td>\n",
       "      <td>450</td>\n",
       "      <td>875</td>\n",
       "      <td>92</td>\n",
       "      <td>97</td>\n",
       "      <td>7.7</td>\n",
       "      <td>37</td>\n",
       "      <td>19016</td>\n",
       "      <td>59</td>\n",
       "    </tr>\n",
       "    <tr>\n",
       "      <th>4</th>\n",
       "      <td>Yes</td>\n",
       "      <td>193</td>\n",
       "      <td>146</td>\n",
       "      <td>55</td>\n",
       "      <td>16</td>\n",
       "      <td>44</td>\n",
       "      <td>249</td>\n",
       "      <td>869</td>\n",
       "      <td>7560</td>\n",
       "      <td>4120</td>\n",
       "      <td>800</td>\n",
       "      <td>1500</td>\n",
       "      <td>76</td>\n",
       "      <td>72</td>\n",
       "      <td>11.9</td>\n",
       "      <td>2</td>\n",
       "      <td>10922</td>\n",
       "      <td>15</td>\n",
       "    </tr>\n",
       "  </tbody>\n",
       "</table>\n",
       "</div>"
      ],
      "text/plain": [
       "  Private  Apps  Accept  Enroll  Top10perc  Top25perc  F.Undergrad  \\\n",
       "0     Yes  1660    1232     721         23         52         2885   \n",
       "1     Yes  2186    1924     512         16         29         2683   \n",
       "2     Yes  1428    1097     336         22         50         1036   \n",
       "3     Yes   417     349     137         60         89          510   \n",
       "4     Yes   193     146      55         16         44          249   \n",
       "\n",
       "   P.Undergrad  Outstate  Room.Board  Books  Personal  PhD  Terminal  \\\n",
       "0          537      7440        3300    450      2200   70        78   \n",
       "1         1227     12280        6450    750      1500   29        30   \n",
       "2           99     11250        3750    400      1165   53        66   \n",
       "3           63     12960        5450    450       875   92        97   \n",
       "4          869      7560        4120    800      1500   76        72   \n",
       "\n",
       "   S.F.Ratio  perc.alumni  Expend  Grad.Rate  \n",
       "0       18.1           12    7041         60  \n",
       "1       12.2           16   10527         56  \n",
       "2       12.9           30    8735         54  \n",
       "3        7.7           37   19016         59  \n",
       "4       11.9            2   10922         15  "
      ]
     },
     "execution_count": 26,
     "metadata": {},
     "output_type": "execute_result"
    }
   ],
   "source": [
    "import pandas as pd\n",
    "college = pd.read_csv('data/college.csv')\n",
    "x = college.iloc[:, 2:]\n",
    "y = college.iloc[:, 1]\n",
    "print(college.shape)\n",
    "college.head()"
   ]
  },
  {
   "cell_type": "markdown",
   "metadata": {},
   "source": [
    "- (1) Split this data into a training set and a test set with train_size=0.5.(Hint: Use the function **sklearn.cross_validation.train_test_split** , set *random_state=0* and *tran_size=0.5*.)\n",
    "\n",
    "- (2) Fit a linear model on the training set and report the training error and test error(mean squared error, you can use the function *sklearn.metrics.mean_squared_error*).\n",
    "\n",
    "- (3) Fit a ridge regression on the training set, with $\\alpha$ chosen by the cross validation. Report the training error and test error.\n",
    "\n",
    "- (4) Fit a lasso on the training set, with $\\alpha$ chosen by the cross validation. Report the training error and test error\n",
    "\n",
    "- (5) Compare the results obtained, what do you find?"
   ]
  },
  {
   "cell_type": "code",
   "execution_count": 29,
   "metadata": {
    "collapsed": true
   },
   "outputs": [],
   "source": [
    "### your solution\n",
    "\n",
    "#(1) Split this data into a training set and a test set with train_size=0.5\n",
    "\n",
    "import sklearn.model_selection as ms\n",
    "x_train, x_test, y_train, y_test = ms.train_test_split(x, y, test_size=0.5, random_state=0)"
   ]
  },
  {
   "cell_type": "code",
   "execution_count": 38,
   "metadata": {},
   "outputs": [
    {
     "name": "stdout",
     "output_type": "stream",
     "text": [
      "mean squared error for training data: 1113145.99\n",
      "mean squared error for test data: 1244800.27\n"
     ]
    }
   ],
   "source": [
    "#(2) Fit a linear model on the training set and report the training error and test error\n",
    "\n",
    "from sklearn import linear_model\n",
    "lr = linear_model.LinearRegression()\n",
    "\n",
    "lr.fit(x_train, y_train)\n",
    "\n",
    "from sklearn.metrics import mean_squared_error\n",
    "\n",
    "#mean_squared_error(y_true, y_pred)\n",
    "\n",
    "print 'mean squared error for training data: %.2f' %mean_squared_error(y_train, lr.predict(x_train))\n",
    "print 'mean squared error for test data: %.2f' %mean_squared_error(y_test, lr.predict(x_test))\n"
   ]
  },
  {
   "cell_type": "code",
   "execution_count": 43,
   "metadata": {},
   "outputs": [
    {
     "name": "stdout",
     "output_type": "stream",
     "text": [
      "Ridge mean squared error for training data: 1197502.32\n",
      "Ridge mean squared error for test data: 958010.41\n"
     ]
    }
   ],
   "source": [
    "# (3) Fit a ridge regression on the training set, with α chosen by the cross validation. \n",
    "# Report the training error and test error\n",
    "\n",
    "from sklearn import linear_model\n",
    "from sklearn.model_selection import GridSearchCV\n",
    "ridge_model = linear_model.Ridge() \n",
    "\n",
    "alphas = np.logspace(0, 8, 100)\n",
    "grid_param=dict(alpha=alphas)\n",
    "\n",
    "para_search = GridSearchCV(estimator=ridge_model, param_grid=grid_param, cv=5).fit(x, y)\n",
    "\n",
    "ridge_best = para_search.best_estimator_\n",
    "\n",
    "print 'Ridge mean squared error for training data: %.2f' %mean_squared_error(y_train, ridge_best.predict(x_train))\n",
    "print 'Ridge mean squared error for test data: %.2f' %mean_squared_error(y_test, ridge_best.predict(x_test))\n"
   ]
  },
  {
   "cell_type": "code",
   "execution_count": 60,
   "metadata": {},
   "outputs": [
    {
     "name": "stdout",
     "output_type": "stream",
     "text": [
      "Lasso mean squared error for training data: 0.08\n",
      "Lasso mean squared error for test data: 0.09\n"
     ]
    }
   ],
   "source": [
    "# (4) Fit a lasso on the training set, with  αα  chosen by the cross validation. \n",
    "# Report the training error and test error\n",
    "\n",
    "lasso_model = linear_model.Lasso() \n",
    "\n",
    "para_search = GridSearchCV(estimator=lasso_model, param_grid=grid_param, cv=5).fit(x, y)\n",
    "\n",
    "lasso_best = para_search.best_estimator_\n",
    "\n",
    "print 'Lasso mean squared error for training data: %.2f' %mean_squared_error(y_train, lasso_best.predict(x_train))\n",
    "print 'Lasso mean squared error for test data: %.2f' %mean_squared_error(y_test, lasso_best.predict(x_test))\n",
    "# rheineke: These mean squared error values are suprisingly small"
   ]
  },
  {
   "cell_type": "markdown",
   "metadata": {},
   "source": [
    "### Problem 4\n",
    "This time  we will try to predict the variable *Private* using the other variables in the College data set. The features and target variable are prepared for you."
   ]
  },
  {
   "cell_type": "code",
   "execution_count": 66,
   "metadata": {
    "collapsed": true
   },
   "outputs": [],
   "source": [
    "college = pd.read_csv('data/college.csv')\n",
    "college[['Private']] = college.Private=='Yes'\n",
    "college[['Private']] = 1*college[['Private']]\n",
    "\n",
    "x = college.iloc[:, 1:]\n",
    "y = college.iloc[:, 0]"
   ]
  },
  {
   "cell_type": "markdown",
   "metadata": {},
   "source": [
    "- (1) Split this data into a training set and a test set with train_size=0.5(Hint: Use the function **sklearn.cross_validation.train_test_split** , set *random_state=1* and *tran_size=0.5*.)]\n",
    "\n",
    "- (2) Fit a logistic regression with regularizaton. Use the function **GridSearchCV** to fint out the best parameters."
   ]
  },
  {
   "cell_type": "code",
   "execution_count": 67,
   "metadata": {
    "collapsed": true
   },
   "outputs": [],
   "source": [
    "import sklearn.model_selection as ms\n",
    "x_train, x_test, y_train, y_test = ms.train_test_split(x, y, test_size=0.5, random_state=1)"
   ]
  },
  {
   "cell_type": "code",
   "execution_count": 68,
   "metadata": {
    "collapsed": true
   },
   "outputs": [],
   "source": [
    "#grid_para_logit = [{'penality': ['l1', 'l2'], 'alpha': np.logspace(-5, 5, 100)}]\n",
    "grid_para_logit = [{'C': np.logspace(-5, 5, 100)}]\n",
    "\n",
    "from sklearn import linear_model\n",
    "from sklearn.model_selection import GridSearchCV\n",
    "logit = linear_model.LogisticRegression()\n",
    "\n",
    "#logit.get_params().keys()\n",
    "para_search = GridSearchCV(estimator=logit, param_grid=grid_para_logit, cv=5).fit(x, y)"
   ]
  },
  {
   "cell_type": "code",
   "execution_count": 69,
   "metadata": {},
   "outputs": [
    {
     "data": {
      "text/plain": [
       "LogisticRegression(C=0.00020565123083486514, class_weight=None, dual=False,\n",
       "          fit_intercept=True, intercept_scaling=1, max_iter=100,\n",
       "          multi_class='ovr', n_jobs=1, penalty='l2', random_state=None,\n",
       "          solver='liblinear', tol=0.0001, verbose=0, warm_start=False)"
      ]
     },
     "execution_count": 69,
     "metadata": {},
     "output_type": "execute_result"
    }
   ],
   "source": [
    "# What's the best parameters?\n",
    "\n",
    "logit_best = para_search.best_estimator_\n",
    "logit_best"
   ]
  },
  {
   "cell_type": "code",
   "execution_count": 70,
   "metadata": {},
   "outputs": [
    {
     "name": "stdout",
     "output_type": "stream",
     "text": [
      "training error for best model: 0.0541\n",
      "test error for best model: 0.0463\n"
     ]
    }
   ],
   "source": [
    "#Refit the model on the training set with best parameters. What's the training error and test error?\n",
    "\n",
    "training_error = 1-logit_best.score(x_train, y_train)\n",
    "test_error = 1-logit_best.score(x_test, y_test)\n",
    "\n",
    "print 'training error for best model: %.4f' %training_error\n",
    "print 'test error for best model: %.4f' %test_error\n"
   ]
  },
  {
   "cell_type": "markdown",
   "metadata": {},
   "source": [
    "    \n",
    "- (3) Fit a KNN model. Use the function **GridSearchCV** to fint out the appropriate parameter *n_neighbors*. Refit the model on the training set and report the training error and test error.\n",
    "\n",
    "- (4) Compare the results of logistic regression and KNN."
   ]
  },
  {
   "cell_type": "code",
   "execution_count": 73,
   "metadata": {},
   "outputs": [
    {
     "name": "stdout",
     "output_type": "stream",
     "text": [
      "training error for best model: 0.0593\n",
      "test error for best model: 0.0720\n"
     ]
    }
   ],
   "source": [
    "### your solution\n",
    "\n",
    "from sklearn import neighbors\n",
    "knn = neighbors.KNeighborsClassifier()\n",
    "#knn.get_params().keys()\n",
    "\n",
    "grid_param = [{'n_neighbors': range(3, 31)}]\n",
    "para_search = GridSearchCV(estimator=knn, param_grid=grid_param, scoring='accuracy', cv=5).fit(x, y)\n",
    "knn_best = para_search.best_estimator_\n",
    "\n",
    "training_error = 1-knn_best.score(x_train, y_train)\n",
    "test_error = 1-knn_best.score(x_test, y_test)\n",
    "\n",
    "print 'training error for best model: %.4f' %training_error\n",
    "print 'test error for best model: %.4f' %test_error"
   ]
  },
  {
   "cell_type": "code",
   "execution_count": null,
   "metadata": {
    "collapsed": true
   },
   "outputs": [],
   "source": [
    "# rheineke: What's the results of comparing these two models?"
   ]
  }
 ],
 "metadata": {
  "kernelspec": {
   "display_name": "Python 2",
   "language": "python",
   "name": "python2"
  },
  "language_info": {
   "codemirror_mode": {
    "name": "ipython",
    "version": 2
   },
   "file_extension": ".py",
   "mimetype": "text/x-python",
   "name": "python",
   "nbconvert_exporter": "python",
   "pygments_lexer": "ipython2",
   "version": "2.7.13"
  }
 },
 "nbformat": 4,
 "nbformat_minor": 1
}
