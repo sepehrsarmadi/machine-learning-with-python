{
 "cells": [
  {
   "cell_type": "markdown",
   "metadata": {},
   "source": [
    "This time we employ the cross validation to figure out the best model for spam filter.\n",
    "\n",
    "**Remark** The objective functions for logistic regression implemented in `sklearn` are:\n",
    "<img src=\"L1.png\">\n",
    "and\n",
    "<img src=\"L2.png\">\n",
    "\n",
    "where\n",
    "- $w$ are the coefficients, which was denoted by $\\beta_i$ in the class.\n",
    "- $c$ is the intercept, which was denoted by $\\beta_0$ in the class. We can change the parameter \"fit_intercept\" to keep or remove it.\n",
    "- $C$ is the inverse of regularization strength. This is opposite to the $\\alpha$ we used in Ridge and Lasso. Smaller values specify stronger regularization.\n",
    "- Therefore the first objective function is of $L_1$ panelty and the second of $L_2$."
   ]
  },
  {
   "cell_type": "markdown",
   "metadata": {},
   "source": [
    "### Problem 1\n",
    "Use the class <code>GridSearchCV</code> to find out the best combination of parameter for logistic regression. (Set <code>cv=5</code> and <code>scoring='accuracy'</code>). "
   ]
  },
  {
   "cell_type": "code",
   "execution_count": 34,
   "metadata": {
    "collapsed": true
   },
   "outputs": [],
   "source": [
    "from __future__ import print_function\n",
    "import pandas as pd\n",
    "import numpy as np\n",
    "\n",
    "spam_train_df = pd.read_csv('data/spam_train.csv')\n",
    "x_train = spam_train_df.iloc[:, :57].values\n",
    "y_train = spam_train_df.iloc[:, -1].values\n",
    "\n",
    "spam_test_df = pd.read_csv('data/spam_test.csv')\n",
    "x_test = spam_test_df.iloc[:, :57].values\n",
    "y_test = spam_test_df.iloc[:, -1].values"
   ]
  },
  {
   "cell_type": "code",
   "execution_count": 35,
   "metadata": {},
   "outputs": [
    {
     "name": "stdout",
     "output_type": "stream",
     "text": [
      "CPU times: user 45.7 s, sys: 505 ms, total: 46.2 s\n",
      "Wall time: 47.2 s\n"
     ]
    },
    {
     "data": {
      "text/plain": [
       "GridSearchCV(cv=5, error_score='raise',\n",
       "       estimator=LogisticRegression(C=1.0, class_weight=None, dual=False, fit_intercept=True,\n",
       "          intercept_scaling=1, max_iter=100, multi_class='ovr', n_jobs=1,\n",
       "          penalty='l2', random_state=42, solver='liblinear', tol=0.0001,\n",
       "          verbose=0, warm_start=False),\n",
       "       fit_params=None, iid=True, n_jobs=1,\n",
       "       param_grid=[{'penalty': ['l1', 'l2'], 'fit_intercept': [False, True], 'C': array([  1.00000e-05,   1.26186e-05, ...,   7.92483e+04,   1.00000e+05])}],\n",
       "       pre_dispatch='2*n_jobs', refit=True, return_train_score=True,\n",
       "       scoring='accuracy', verbose=0)"
      ]
     },
     "execution_count": 35,
     "metadata": {},
     "output_type": "execute_result"
    }
   ],
   "source": [
    "from sklearn import model_selection\n",
    "from sklearn import linear_model\n",
    "para_grid = [{\n",
    "    'penalty': ['l1', 'l2'],\n",
    "    'fit_intercept': [False, True],\n",
    "    'C': np.logspace(-5, 5, 100)\n",
    "}]\n",
    "logit = linear_model.LogisticRegression(random_state=42) # Use this random state for reproducible results\n",
    "\n",
    "# Your solution\n",
    "\n",
    "para_search = model_selection.GridSearchCV(logit, para_grid, cv=5, scoring='accuracy')\n",
    "%time para_search.fit(x_train, y_train)"
   ]
  },
  {
   "cell_type": "markdown",
   "metadata": {},
   "source": [
    "    - What is the best combination?\n",
    "    - What is the best score?\n",
    "    - Refit the best estimator on the whole data set. How many coefficients were reduced to 0? (Hint: the absolute value of coefficients that are smaller than 1e-3.) \n",
    "    - What's the corresponding training error and test error? (Training error is the model performance on spam_train, while test error is the performance on spam_test.)"
   ]
  },
  {
   "cell_type": "code",
   "execution_count": 36,
   "metadata": {},
   "outputs": [
    {
     "name": "stdout",
     "output_type": "stream",
     "text": [
      "{'C': 46.415888336127821, 'fit_intercept': True, 'penalty': 'l1'}\n",
      "Best score: 0.928695652173913\n",
      "Number of coefficients reduced to zero: 3\n",
      "Training error: 0.06217\n",
      "Training error: 0.07084\n"
     ]
    }
   ],
   "source": [
    "### your solution\n",
    "# 1.\n",
    "print(para_search.best_params_)\n",
    "\n",
    "# 2.\n",
    "print('Best score: {}'.format(para_search.best_score_))\n",
    "\n",
    "# 3.\n",
    "logit_best = para_search.best_estimator_\n",
    "almost_zero = np.abs(logit_best.coef_) < 1e-3\n",
    "print('Number of coefficients reduced to zero: {}'.format(np.sum(almost_zero)))\n",
    "# 4.\n",
    "print(\"Training error: %.5f\" % (1 - logit_best.score(x_train, y_train)))\n",
    "print(\"Training error: %.5f\" % (1 - logit_best.score(x_test, y_test)))\n",
    "\n",
    "# 5.\n",
    "coef_accuracy = logit_best.coef_"
   ]
  },
  {
   "cell_type": "markdown",
   "metadata": {},
   "source": [
    "### Problem 2\n",
    "\n",
    "Set *scoring = 'roc_auc'* and search again, what's the best parameters? Fit the best estimator on the spam_train data set. What's the training error and test error?"
   ]
  },
  {
   "cell_type": "code",
   "execution_count": 37,
   "metadata": {},
   "outputs": [
    {
     "name": "stdout",
     "output_type": "stream",
     "text": [
      "CPU times: user 40.8 s, sys: 370 ms, total: 41.2 s\n",
      "Wall time: 41.7 s\n"
     ]
    },
    {
     "data": {
      "text/plain": [
       "GridSearchCV(cv=5, error_score='raise',\n",
       "       estimator=LogisticRegression(C=1.0, class_weight=None, dual=False, fit_intercept=True,\n",
       "          intercept_scaling=1, max_iter=100, multi_class='ovr', n_jobs=1,\n",
       "          penalty='l2', random_state=42, solver='liblinear', tol=0.0001,\n",
       "          verbose=0, warm_start=False),\n",
       "       fit_params=None, iid=True, n_jobs=1,\n",
       "       param_grid=[{'penalty': ['l1', 'l2'], 'fit_intercept': [False, True], 'C': array([  1.00000e-05,   1.26186e-05, ...,   7.92483e+04,   1.00000e+05])}],\n",
       "       pre_dispatch='2*n_jobs', refit=True, return_train_score=True,\n",
       "       scoring='roc_auc', verbose=0)"
      ]
     },
     "execution_count": 37,
     "metadata": {},
     "output_type": "execute_result"
    }
   ],
   "source": [
    "### your solution\n",
    "y_train_bin = np.where(y_train == 'spam', 1, 0)\n",
    "y_test_bin = np.where(y_test == 'spam', 1, 0)\n",
    "\n",
    "para_search = model_selection.GridSearchCV(logit, para_grid, cv=5, scoring='roc_auc')\n",
    "\n",
    "%time para_search.fit(x_train, y_train_bin)"
   ]
  },
  {
   "cell_type": "code",
   "execution_count": 38,
   "metadata": {},
   "outputs": [
    {
     "data": {
      "text/plain": [
       "{'C': 1.4174741629268048, 'fit_intercept': True, 'penalty': 'l1'}"
      ]
     },
     "execution_count": 38,
     "metadata": {},
     "output_type": "execute_result"
    }
   ],
   "source": [
    "para_search.best_params_"
   ]
  },
  {
   "cell_type": "code",
   "execution_count": 39,
   "metadata": {},
   "outputs": [
    {
     "name": "stdout",
     "output_type": "stream",
     "text": [
      "Training error: 0.02155\n",
      "Training error: 0.03032\n"
     ]
    }
   ],
   "source": [
    "# Note that para_search.score calls roc_auc on the best fit model. On the other hand,\n",
    "# para_search.best_estimator_.score is hardcoded to return the accuracy\n",
    "print(\"Training error: %.5f\" % (1 - para_search.score(x_train, y_train_bin)))\n",
    "print(\"Training error: %.5f\" % (1 - para_search.score(x_test, y_test_bin)))"
   ]
  },
  {
   "cell_type": "markdown",
   "metadata": {},
   "source": [
    "### Problem 3\n",
    "\n",
    "In this exercise, we will predict the number of applications received(*Apps*) using the other variables in the College data set.\n",
    "\n",
    "The features and the target variable are prepared as $x$ and $y$."
   ]
  },
  {
   "cell_type": "code",
   "execution_count": 40,
   "metadata": {},
   "outputs": [
    {
     "name": "stdout",
     "output_type": "stream",
     "text": [
      "(777, 18)\n"
     ]
    },
    {
     "data": {
      "text/html": [
       "<div>\n",
       "<style>\n",
       "    .dataframe thead tr:only-child th {\n",
       "        text-align: right;\n",
       "    }\n",
       "\n",
       "    .dataframe thead th {\n",
       "        text-align: left;\n",
       "    }\n",
       "\n",
       "    .dataframe tbody tr th {\n",
       "        vertical-align: top;\n",
       "    }\n",
       "</style>\n",
       "<table border=\"1\" class=\"dataframe\">\n",
       "  <thead>\n",
       "    <tr style=\"text-align: right;\">\n",
       "      <th></th>\n",
       "      <th>Private</th>\n",
       "      <th>Apps</th>\n",
       "      <th>Accept</th>\n",
       "      <th>Enroll</th>\n",
       "      <th>Top10perc</th>\n",
       "      <th>Top25perc</th>\n",
       "      <th>F.Undergrad</th>\n",
       "      <th>P.Undergrad</th>\n",
       "      <th>Outstate</th>\n",
       "      <th>Room.Board</th>\n",
       "      <th>Books</th>\n",
       "      <th>Personal</th>\n",
       "      <th>PhD</th>\n",
       "      <th>Terminal</th>\n",
       "      <th>S.F.Ratio</th>\n",
       "      <th>perc.alumni</th>\n",
       "      <th>Expend</th>\n",
       "      <th>Grad.Rate</th>\n",
       "    </tr>\n",
       "  </thead>\n",
       "  <tbody>\n",
       "    <tr>\n",
       "      <th>0</th>\n",
       "      <td>Yes</td>\n",
       "      <td>1660</td>\n",
       "      <td>1232</td>\n",
       "      <td>721</td>\n",
       "      <td>23</td>\n",
       "      <td>52</td>\n",
       "      <td>2885</td>\n",
       "      <td>537</td>\n",
       "      <td>7440</td>\n",
       "      <td>3300</td>\n",
       "      <td>450</td>\n",
       "      <td>2200</td>\n",
       "      <td>70</td>\n",
       "      <td>78</td>\n",
       "      <td>18.1</td>\n",
       "      <td>12</td>\n",
       "      <td>7041</td>\n",
       "      <td>60</td>\n",
       "    </tr>\n",
       "    <tr>\n",
       "      <th>1</th>\n",
       "      <td>Yes</td>\n",
       "      <td>2186</td>\n",
       "      <td>1924</td>\n",
       "      <td>512</td>\n",
       "      <td>16</td>\n",
       "      <td>29</td>\n",
       "      <td>2683</td>\n",
       "      <td>1227</td>\n",
       "      <td>12280</td>\n",
       "      <td>6450</td>\n",
       "      <td>750</td>\n",
       "      <td>1500</td>\n",
       "      <td>29</td>\n",
       "      <td>30</td>\n",
       "      <td>12.2</td>\n",
       "      <td>16</td>\n",
       "      <td>10527</td>\n",
       "      <td>56</td>\n",
       "    </tr>\n",
       "    <tr>\n",
       "      <th>2</th>\n",
       "      <td>Yes</td>\n",
       "      <td>1428</td>\n",
       "      <td>1097</td>\n",
       "      <td>336</td>\n",
       "      <td>22</td>\n",
       "      <td>50</td>\n",
       "      <td>1036</td>\n",
       "      <td>99</td>\n",
       "      <td>11250</td>\n",
       "      <td>3750</td>\n",
       "      <td>400</td>\n",
       "      <td>1165</td>\n",
       "      <td>53</td>\n",
       "      <td>66</td>\n",
       "      <td>12.9</td>\n",
       "      <td>30</td>\n",
       "      <td>8735</td>\n",
       "      <td>54</td>\n",
       "    </tr>\n",
       "    <tr>\n",
       "      <th>3</th>\n",
       "      <td>Yes</td>\n",
       "      <td>417</td>\n",
       "      <td>349</td>\n",
       "      <td>137</td>\n",
       "      <td>60</td>\n",
       "      <td>89</td>\n",
       "      <td>510</td>\n",
       "      <td>63</td>\n",
       "      <td>12960</td>\n",
       "      <td>5450</td>\n",
       "      <td>450</td>\n",
       "      <td>875</td>\n",
       "      <td>92</td>\n",
       "      <td>97</td>\n",
       "      <td>7.7</td>\n",
       "      <td>37</td>\n",
       "      <td>19016</td>\n",
       "      <td>59</td>\n",
       "    </tr>\n",
       "    <tr>\n",
       "      <th>4</th>\n",
       "      <td>Yes</td>\n",
       "      <td>193</td>\n",
       "      <td>146</td>\n",
       "      <td>55</td>\n",
       "      <td>16</td>\n",
       "      <td>44</td>\n",
       "      <td>249</td>\n",
       "      <td>869</td>\n",
       "      <td>7560</td>\n",
       "      <td>4120</td>\n",
       "      <td>800</td>\n",
       "      <td>1500</td>\n",
       "      <td>76</td>\n",
       "      <td>72</td>\n",
       "      <td>11.9</td>\n",
       "      <td>2</td>\n",
       "      <td>10922</td>\n",
       "      <td>15</td>\n",
       "    </tr>\n",
       "  </tbody>\n",
       "</table>\n",
       "</div>"
      ],
      "text/plain": [
       "  Private  Apps  Accept  Enroll  Top10perc  Top25perc  F.Undergrad  \\\n",
       "0     Yes  1660    1232     721         23         52         2885   \n",
       "1     Yes  2186    1924     512         16         29         2683   \n",
       "2     Yes  1428    1097     336         22         50         1036   \n",
       "3     Yes   417     349     137         60         89          510   \n",
       "4     Yes   193     146      55         16         44          249   \n",
       "\n",
       "   P.Undergrad  Outstate  Room.Board  Books  Personal  PhD  Terminal  \\\n",
       "0          537      7440        3300    450      2200   70        78   \n",
       "1         1227     12280        6450    750      1500   29        30   \n",
       "2           99     11250        3750    400      1165   53        66   \n",
       "3           63     12960        5450    450       875   92        97   \n",
       "4          869      7560        4120    800      1500   76        72   \n",
       "\n",
       "   S.F.Ratio  perc.alumni  Expend  Grad.Rate  \n",
       "0       18.1           12    7041         60  \n",
       "1       12.2           16   10527         56  \n",
       "2       12.9           30    8735         54  \n",
       "3        7.7           37   19016         59  \n",
       "4       11.9            2   10922         15  "
      ]
     },
     "execution_count": 40,
     "metadata": {},
     "output_type": "execute_result"
    }
   ],
   "source": [
    "import pandas as pd\n",
    "college = pd.read_csv('data/college.csv')\n",
    "x = college.iloc[:, 2:]\n",
    "y = college.iloc[:, 1]\n",
    "print(college.shape)\n",
    "college.head()"
   ]
  },
  {
   "cell_type": "markdown",
   "metadata": {},
   "source": [
    "- (1) Split this data into a training set and a test set with train_size=0.5. (Hint: Use the function **sklearn.cross_validation.train_test_split** , set *random_state=0* and *train_size=0.5*.)\n",
    "\n",
    "- (2) Fit a linear model on the training set and report the training error and test error. Report mean squared error only for this problem. (You can use the function *sklearn.metrics.mean_squared_error*).\n",
    "\n",
    "- (3) Fit a ridge regression on the training set, with $\\alpha$ chosen by the cross validation. Report the training error and test error.\n",
    "\n",
    "- (4) Fit a lasso on the training set, with $\\alpha$ chosen by the cross validation. Report the training error and test error\n",
    "\n",
    "- (5) Compare the results obtained, what do you find?"
   ]
  },
  {
   "cell_type": "code",
   "execution_count": 41,
   "metadata": {},
   "outputs": [
    {
     "name": "stdout",
     "output_type": "stream",
     "text": [
      "Training error of linear model is: 1113145.99     Test error of linear model is: 1244800.27\n"
     ]
    },
    {
     "name": "stderr",
     "output_type": "stream",
     "text": [
      "/Users/rheineke/anaconda3/lib/python3.6/site-packages/sklearn/model_selection/_split.py:2010: FutureWarning: From version 0.21, test_size will always complement train_size unless both are specified.\n",
      "  FutureWarning)\n"
     ]
    }
   ],
   "source": [
    "### your solution\n",
    "from sklearn import model_selection\n",
    "x_train, x_test, y_train, y_test = model_selection.train_test_split(x, y, train_size=0.5, random_state=0)\n",
    "# (2)\n",
    "import sklearn.linear_model as lm\n",
    "from sklearn.metrics import mean_squared_error\n",
    "ols = lm.LinearRegression().fit(x_train, y_train)\n",
    "fmt = 'Training error of {0} model is: {1:.2f}     Test error of {0} model is: {2:.2f}'\n",
    "train_linear_mse = mean_squared_error(ols.predict(x_train), y_train)\n",
    "test_linear_mse = mean_squared_error(ols.predict(x_test), y_test)\n",
    "print(fmt.format('linear', train_linear_mse, test_linear_mse))"
   ]
  },
  {
   "cell_type": "code",
   "execution_count": 42,
   "metadata": {},
   "outputs": [
    {
     "name": "stdout",
     "output_type": "stream",
     "text": [
      "CPU times: user 2.6 s, sys: 38.7 ms, total: 2.63 s\n",
      "Wall time: 2.56 s\n",
      "CPU times: user 2.52 s, sys: 41.4 ms, total: 2.56 s\n",
      "Wall time: 2.63 s\n",
      "Alpha chosen: 756.46\n",
      "Training error of ridge model is: 1113772.12     Test error of ridge model is: 1240199.69\n"
     ]
    }
   ],
   "source": [
    "# (3)\n",
    "param_grid = {'alpha': np.logspace(start=-5, stop=5, num=100)}\n",
    "\n",
    "brute_ridge_cv = model_selection.GridSearchCV(lm.Ridge(), param_grid, cv=5)\n",
    "%time brute_ridge_cv.fit(x_train, y_train)\n",
    "\n",
    "# Some models can fit hyperparameters more efficiently than an exhaustive search\n",
    "# http://scikit-learn.org/stable/modules/grid_search.html#model-specific-cross-validation\n",
    "# We'll time these searches to see if there is any improvement for this small dataset\n",
    "\n",
    "ridge_cv = lm.RidgeCV(alphas=param_grid['alpha'], cv=5)\n",
    "%time ridge_cv.fit(x_train, y_train)\n",
    "\n",
    "train_ridge_mse = mean_squared_error(ridge_cv.predict(x_train), y_train)\n",
    "test_ridge_mse = mean_squared_error(ridge_cv.predict(x_test), y_test)\n",
    "print('Alpha chosen: {:.2f}'.format(ridge_cv.alpha_))\n",
    "print(fmt.format('ridge', train_ridge_mse, test_ridge_mse))"
   ]
  },
  {
   "cell_type": "code",
   "execution_count": 43,
   "metadata": {},
   "outputs": [
    {
     "name": "stdout",
     "output_type": "stream",
     "text": [
      "CPU times: user 2 s, sys: 22 ms, total: 2.02 s\n",
      "Wall time: 2.04 s\n",
      "CPU times: user 66.7 ms, sys: 1.65 ms, total: 68.3 ms\n",
      "Wall time: 67.6 ms\n",
      "Alpha chosen: 73.91\n",
      "Training error of lasso model is: 1114287.76     Test error of lasso model is: 1235860.02\n"
     ]
    }
   ],
   "source": [
    "# (4)\n",
    "brute_lasso_cv = model_selection.GridSearchCV(lm.Lasso(), param_grid, cv=5)\n",
    "%time brute_lasso_cv.fit(x_train, y_train)\n",
    "\n",
    "lasso_cv = lm.LassoCV(alphas=param_grid['alpha'], cv=5)\n",
    "%time lasso_cv.fit(x_train, y_train)\n",
    "train_lasso_mse = mean_squared_error(lasso_cv.predict(x_train), y_train)\n",
    "test_lasso_mse = mean_squared_error(lasso_cv.predict(x_test), y_test)\n",
    "print('Alpha chosen: {:.2f}'.format(lasso_cv.alpha_))\n",
    "print(fmt.format('lasso', train_lasso_mse, test_lasso_mse))"
   ]
  },
  {
   "cell_type": "markdown",
   "metadata": {},
   "source": [
    "(5)\n",
    "- Ridge and Lasso performs worse than linear model on the training set because of the regularization.\n",
    "- But ridge and lasso predict better on the test set.\n",
    "- Lasso performs worst on the training set but performs best on the test set.\n",
    "- It's dangerous to use training error estimate test error."
   ]
  },
  {
   "cell_type": "markdown",
   "metadata": {},
   "source": [
    "### Problem 4\n",
    "This time  we will try to predict the variable *Private* using the other variables in the College data set. The features and target variable are prepared for you."
   ]
  },
  {
   "cell_type": "code",
   "execution_count": 44,
   "metadata": {
    "collapsed": true
   },
   "outputs": [],
   "source": [
    "x = college.iloc[:, 1:]\n",
    "y = college.iloc[:, 0]"
   ]
  },
  {
   "cell_type": "markdown",
   "metadata": {},
   "source": [
    "- (1) Split this data into a training set and a test set with train_size=0.5 (Hint: Use the function **sklearn.cross_validation.train_test_split**, set *random_state=1* and *train_size=0.5*.)]\n",
    "\n",
    "- (2) Fit a logistic regression with regularizaton. Use the function **GridSearchCV** to fint out the best parameters."
   ]
  },
  {
   "cell_type": "code",
   "execution_count": 45,
   "metadata": {
    "collapsed": true
   },
   "outputs": [],
   "source": [
    "grid_para_logit = [{'penality': ['l1', 'l2'], 'alpha': np.logspace(-5, 5, 100)}]"
   ]
  },
  {
   "cell_type": "markdown",
   "metadata": {},
   "source": [
    "    - What's the best parameters?\n",
    "    - Refit the model on the training set with best parameters. What's the training error and test error?\n",
    "    \n",
    "- (3) Fit a KNN model. Use the function **GridSearchCV** to determine the appropriate parameter *n_neighbors*. Refit the model on the training set and report the training error and test error.\n",
    "\n",
    "- (4) Compare the results of logistic regression and KNN."
   ]
  },
  {
   "cell_type": "code",
   "execution_count": 46,
   "metadata": {},
   "outputs": [
    {
     "name": "stderr",
     "output_type": "stream",
     "text": [
      "/Users/rheineke/anaconda3/lib/python3.6/site-packages/sklearn/model_selection/_split.py:2010: FutureWarning: From version 0.21, test_size will always complement train_size unless both are specified.\n",
      "  FutureWarning)\n"
     ]
    },
    {
     "name": "stdout",
     "output_type": "stream",
     "text": [
      "CPU times: user 8.01 s, sys: 51 ms, total: 8.06 s\n",
      "Wall time: 8.14 s\n",
      "The most appropriate parameter are: {'C': 0.027185882427329403, 'penalty': 'l1'}\n",
      "The training error of logistic: 0.04381\n",
      "The test     error of logistic: 0.05913\n"
     ]
    }
   ],
   "source": [
    "### your solution\n",
    "\n",
    "## (1)\n",
    "x_train, x_test, y_train, y_test = model_selection.train_test_split(x, y, train_size=0.5, random_state=1)\n",
    "\n",
    "## (2)\n",
    "logit = lm.LogisticRegression()\n",
    "grid_para_logit = [{\n",
    "    'penalty': ['l1', 'l2'],\n",
    "    'C': np.logspace(-5, 5, 100)\n",
    "}]\n",
    "grid_search_logit = model_selection.GridSearchCV(logit, grid_para_logit, scoring='accuracy') ## search\n",
    "%time grid_search_logit.fit(x_train, y_train)\n",
    "logit = grid_search_logit.best_estimator_\n",
    "\n",
    "print(\"The most appropriate parameter are: \" + str(grid_search_logit.best_params_))\n",
    "print(\"The training error of logistic: %.5f\" %(1 - logit.score(x_train, y_train)))\n",
    "print(\"The test     error of logistic: %.5f\" %(1 - logit.score(x_test, y_test)))\n"
   ]
  },
  {
   "cell_type": "code",
   "execution_count": 47,
   "metadata": {},
   "outputs": [
    {
     "name": "stdout",
     "output_type": "stream",
     "text": [
      "{'n_neighbors': 26}\n",
      "The training error of KNN: 0.06186\n",
      "The test     error of KNN: 0.07198\n"
     ]
    }
   ],
   "source": [
    "## (3)\n",
    "from sklearn import neighbors\n",
    "knn = neighbors.KNeighborsClassifier()\n",
    "grid_para_knn = [{'n_neighbors': range(3, 31)}]\n",
    "gs_cv = model_selection.GridSearchCV(knn, grid_para_knn, scoring='accuracy')\n",
    "grid_search_knn = gs_cv.fit(x_train, y_train)\n",
    "print(grid_search_knn.best_params_)\n",
    "knn = grid_search_knn.best_estimator_\n",
    "print(\"The training error of KNN: %.5f\" %(1 - knn.score(x_train, y_train)))\n",
    "print(\"The test     error of KNN: %.5f\" %(1 - knn.score(x_test, y_test)))"
   ]
  },
  {
   "cell_type": "markdown",
   "metadata": {},
   "source": [
    "(4)\n",
    "+ The test error is slightly higher than training error both in logistic regression and KNN.\n",
    "+ Logistic regression is slightly better than KNN in this case."
   ]
  },
  {
   "cell_type": "code",
   "execution_count": null,
   "metadata": {
    "collapsed": true
   },
   "outputs": [],
   "source": []
  }
 ],
 "metadata": {
  "kernelspec": {
   "display_name": "Python 2",
   "language": "python",
   "name": "python2"
  },
  "language_info": {
   "codemirror_mode": {
    "name": "ipython",
    "version": 2
   },
   "file_extension": ".py",
   "mimetype": "text/x-python",
   "name": "python",
   "nbconvert_exporter": "python",
   "pygments_lexer": "ipython2",
   "version": "2.7.13"
  }
 },
 "nbformat": 4,
 "nbformat_minor": 2
}
