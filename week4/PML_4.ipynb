{
 "cells": [
  {
   "cell_type": "markdown",
   "metadata": {},
   "source": [
    "# Python Machine Learning 4 - Classification 2\n",
    "\n",
    "<p><a name=\"sections\"></a></p>\n",
    "\n",
    "\n",
    "## Sections\n",
    "\n",
    "- <a href=\"#svm\">Support Vector Machine</a><br>\n",
    "- <a href=\"#svm-sklearn\">SVM in Scikit Learn</a><br>\n",
    " - <a href=\"#1caes1\">Case 1: Binary Classification</a><br>\n",
    "     - <a href=\"#1ex1\">Exercise</a><br>\n",
    " - <a href=\"#1caes2\">Case 2: Multiclass Classification</a><br>\n",
    "     - <a href=\"#1ex2\">Exercise</a><br>\n",
    " - <a href=\"#1caes3\">Case 3: Grid Search</a><br>\n",
    "- <a href=\"#tree\">Decision Tree in Scikit Learn</a><br>\n",
    "  - <a href=\"#2ex1\">Exercise</a><br>\n",
    "  - <a href=\"#2case1\">Case 1: Iris Data</a><br>\n",
    "  - <a href=\"#2case2\">Case 2: Spam Filter</a><br>\n",
    "  - <a href=\"#2case3\">Case 3: Grid Search</a><br>\n",
    "  - <a href=\"#2case4\">Case 4: Depth of Tree</a><br>\n",
    "- <a href=\"#rf\">Random Forest in Scikit Learn</a><br>\n",
    "  - <a href=\"#3case1\">Case 1: Iris Data</a><br>\n",
    "  - <a href=\"#3case2\">Case 2: Spam Filter</a><br>\n",
    "  - <a href=\"#3case3\">Case 3: Grid Search</a><br>\n",
    "  - <a href=\"#3case4\">Case 4: Number of Trees</a><br>"
   ]
  },
  {
   "cell_type": "markdown",
   "metadata": {},
   "source": [
    "<p><a name=\"svm\"></a></p>\n",
    "## Support Vector Machines\n",
    "\n",
    "- Support vector machines (SVMs) are supervised learning methods used for classification analysis.\n",
    "\n",
    "- Unlike linear discriminant analysis or logistic regression, SVMs approach the two-class classification problem in a direct way: construct linear decision boundaries, by explicitly separating the data in two different classes as well as possible.\n",
    "\n",
    "- The decision boundaries are called hyperplanes in the feature space.\n"
   ]
  },
  {
   "cell_type": "markdown",
   "metadata": {},
   "source": [
    "### Hyperplanes\n",
    "\n",
    "A hyperplane of a *p-dimensional* space *V* is a subspace of dimension *p-1*.\n",
    "\n",
    "- A hyperplane can be described with a single linear equation of the form (in Cartesian coordinates):\n",
    "\n",
    "$$\\beta_0 + \\beta_1 X_1 + ... + \\beta_p X_p = 0$$\n",
    "\n",
    "  - It is more convenient to be written in the matrix form $\\beta_0 + \\beta^T X = 0$, where $\\beta = (\\beta_1, ... \\beta_p)$ and $X = (X_1, ... X_p)$ are *p-dimensional* vectors.\n",
    "  \n",
    "  - In a 2-dimensional space, a hyperplane is a line and in a 3-dimensional space it is a plane.\n",
    "\n",
    "\n",
    "- The coefficient vector $\\beta$ is the **normal vector** - a vector orthogonal to the surface of that hyperplane.\n",
    "\n",
    "- In some cases we need to work with the normalized form: $\\beta^* = \\beta / \\lvert \\beta \\rvert$, or equivalently, to require that $\\sum_i^p \\beta_i^2 = 1$\n",
    "\n",
    "Some properties:\n",
    "\n",
    "- For any point $x_0$ in the hyperplane, $\\beta^T x_0 = -\\beta_0$\n",
    "\n",
    "- For any two points $x_1$ and $x_2$ lying in the hyperplane, we always have $\\beta^T (x_1 - x_2) = 0$, that is, the normal vector $\\beta$ is perpendicular to any vectors within the hyperplane.\n",
    "\n",
    "- The signed distance of any point $x$ to the hyperplane is given by:\n",
    "\n",
    "$$f(x) = \\frac{1}{\\lvert \\beta \\rvert}(\\beta^T x + \\beta_0)$$\n"
   ]
  },
  {
   "cell_type": "markdown",
   "metadata": {},
   "source": [
    "### Separating Hyperplanes\n",
    "\n",
    "- If we assume that the data can be well separated by a hyperplane defined by $f(X) = \\beta_0 + \\beta^T X = 0$, then:\n",
    "\n",
    "  - $f(X) > 0$, for points on one side of the hyperplane,\n",
    "  - $f(X) < 0$, for points on the other side.\n",
    "\n",
    "- We coded the two classes as:\n",
    "\n",
    "  - $y = 1$, for $f(X) > 0$\n",
    "  - $y = -1$, for $f(X) < 0$\n",
    "\n",
    "- The distances times the classes become positive: $y_i \\cdot f(X_i) > 0$"
   ]
  },
  {
   "cell_type": "markdown",
   "metadata": {},
   "source": [
    "### Optimal Separating Hyperplanes\n",
    "\n",
    "- Goal: to maximize the margin, defined by the distance from the data point to a hyperplane,  between the two classes on the training data.\n",
    "\n",
    "- The data points that are used to determine the margins are called support vectors.\n"
   ]
  },
  {
   "cell_type": "markdown",
   "metadata": {},
   "source": [
    "### Maximal Margin Classifier\n",
    "\n",
    "The optimal separating hyperplane leads to a constrained optimization problem:\n",
    "\n",
    "$$\\underset{\\beta_0, \\lvert \\beta \\rvert = 1}{\\mathrm{max}} M$$\n",
    "\n",
    "$$\\mbox{subject to  }y_i(x_i^T \\beta + \\beta_0) \\geq M, i = 1, ..., N$$\n",
    "\n",
    "The set of conditions ensure that the distances from all the points to the decision boundary defined by $\\beta$ and $\\beta_0$ are at least $M$, and we seek the largest $M$ by varying the parameters.\n",
    "\n",
    "We can get rid of the constraint $\\lvert \\beta \\rvert = 1$ by replacing the condition with:\n",
    "\n",
    "$$y_i(x_i^T \\beta + \\beta_0) \\geq M \\lvert \\beta \\rvert$$\n",
    "\n",
    "For any $\\beta$ and $\\beta_0$ satisfying the inequalities, any positively scaled multiple satisfies them too. If we set $\\lvert \\beta \\rvert = 1/M$, we can rephrase the problem to a more convenient form by dropping the norm constraint on $\\beta$:\n",
    "\n",
    "$$\\underset{\\beta_0, \\beta}{\\mathrm{min}} \\frac{1}{2}\\lvert \\beta \\rvert^2$$\n",
    "\n",
    "$$\\mbox{subject to  }y_i(x_i^T \\beta + \\beta_0) \\geq 1$$\n",
    "\n",
    "This is a convex quadratic problem, and can be solved efficiently."
   ]
  },
  {
   "cell_type": "markdown",
   "metadata": {},
   "source": [
    "### Noisy Data\n",
    "\n",
    "- The technique for constructing an optimal separating hyperplane can be applied to cases of two perfectly separated classes.\n",
    "\n",
    "- However, sometimes the data can be noisy, which can lead to a poor solution for the maximal margin classifier.\n"
   ]
  },
  {
   "cell_type": "markdown",
   "metadata": {},
   "source": [
    "### Non-separable Data\n",
    "\n",
    "- Even worse, quite often the data is not separable by a linear boundary.\n",
    "\n",
    "- What shall we do?\n"
   ]
  },
  {
   "cell_type": "markdown",
   "metadata": {},
   "source": [
    "### The Support Vector Classifier\n",
    "\n",
    "- To tolerate noise and errors, we still maximize M but meanwhile allow some points to be on the wrong side of the hyperplane.\n",
    "\n",
    "- We introduce “slack” variables $\\epsilon = (\\epsilon_1, ... \\epsilon_N)$ with $\\epsilon_i \\geq 0$ and $\\sum_i \\epsilon_i \\leq \\mbox{Const}$, and modify the optimization problem to be:\n",
    "\n",
    "$$\n",
    "\\underset{\\beta_0, \\epsilon, \\lvert \\beta \\rvert = 1}{\\mathrm{max}} M\n",
    "$$\n",
    "\n",
    "$$\n",
    "\\mbox{ subject to }\n",
    "\\begin{cases}\n",
    "y_i(x_i^T \\beta + \\beta_0) \\geq M (1 - \\epsilon_i)\n",
    "\\\\\n",
    "\\epsilon_i \\geq 0 \\mbox{, and } \\sum_i \\epsilon_i \\leq \\mbox{Const}\n",
    "\\end{cases}\n",
    "$$\n",
    "\n",
    "- $\\epsilon_i$ are proportional to the amount by which the prediction is on the wrong side of their margin. \n",
    "- Misclassifications occur when $\\epsilon_i > 1$. So given that the constraint $\\sum \\epsilon_i = \\mbox{Const}$, the total number of misclassifications will be bounded by $\\mbox{Const}$.\n",
    "\n",
    "- The effect of the data points that fall into the margin will be penalized by the slack variable $\\epsilon$.\n",
    "\n",
    "\n",
    "Computationally it's convenient to use the form:\n",
    "\n",
    "$$\n",
    "\\underset{\\beta_0, \\beta}{\\mathrm{min}} \\big( \\frac{1}{2} \\lvert \\beta \\rvert^2 + C \\sum_{i=1}^N \\epsilon_i \\big)\n",
    "$$\n",
    "\n",
    "$$\n",
    "\\mbox{ subject to }\n",
    "\\begin{cases}\n",
    "y_i(x_i^T \\beta + \\beta_0) \\geq 1 - \\epsilon_i\n",
    "\\\\\n",
    "\\epsilon_i \\geq 0\n",
    "\\end{cases}\n",
    "$$\n",
    "\n",
    "where $C$ is the penalty parameter of the error term.\n",
    "\n",
    "- If $C$ is close to 0 then we have a wide, soft margin.\n",
    "\n",
    "- If $C$ is large then we are close to the hard-margin formulation.\n"
   ]
  },
  {
   "cell_type": "markdown",
   "metadata": {},
   "source": [
    "### Beyond Linearity\n",
    "\n",
    "The support vector classifier described so far finds linear boundaries in the feature space.\n",
    "\n",
    "In reality, it's very unlikely that the true boundary is actually linear in $X$.\n",
    "\n",
    "If a linear boundary fails, we need to move beyond linearity. \n",
    "\n",
    "The core idea is to enlarge the features $X$ using basis expansions such as polynomials, and then use linear models in the enlarged space of derived input features, and translate to nonlinear boundaries in the original space.\n",
    "\n",
    "Example: \n",
    "- We enlarge the feature space $(X_1, X_2)$ to $(X_1, X_2, X_1^2, X_2^2, X_1X_2)$\n",
    "- The boundary is then a hyperplane in *5-dimensional* space determined by:\n",
    "$$\n",
    "\\beta_0 + \\beta_1 X_1 + \\beta_2 X_2, + \\beta_3 X_1^2 + \\beta_4 X_1 X_2 + \\beta_4 X_2^2 = 0\n",
    "$$\n",
    "\n",
    "*Examples*"
   ]
  },
  {
   "cell_type": "markdown",
   "metadata": {},
   "source": [
    "### Kernels\n",
    "\n",
    "- In general, the idea for nonlinearity is to map the feature X to a high dimensional space by some mapping functions $h(x)$.\n",
    "\n",
    "- Notice that only the inner-products of the input vectors play a role in the optimization problem (the proof of this requires to derive a so called Lagrangian dual function which is beyond the scope of this course).\n",
    "\n",
    "- A more elegant and controlled way to have nonlinear boundaries is to use kernels.\n",
    "\n",
    "- We first introduce the notation for inner product of two vectors:\n",
    "\n",
    "$$\\left \\langle x, x^\\prime \\right \\rangle = \\sum_{i=1}^p x_i x_i^\\prime$$\n",
    "\n",
    "- It can be mathematically proven that the linear vector classifier can be represented as\n",
    "\n",
    "$$f(x) = \\beta_0 + \\sum_{i=1}^N \\alpha_i y_i\\left \\langle x, x_i \\right \\rangle$$\n",
    "\n",
    "- where $\\alpha_i > 0$ are parameters subject to $0 < \\alpha_i < C$. For the data points that are not  support vectors, their $\\alpha_i$ are equal to 0.\n",
    "\n",
    "- Since the support vector classifiers involve the mapping h(X) only through inner products, instead of specifying the transformation, we only need to provide a kernel function\n",
    "\n",
    "$$K(x, x^\\prime) = \\left \\langle h(x), h(x^\\prime) \\right \\rangle$$\n",
    "\n",
    "- Some popular choices for kernel functions for SVMs are:\n",
    "\n",
    "  - *d*th-Degree polynomial: $K(x, x^\\prime) = (1+\\left \\langle x, x^\\prime \\right \\rangle)^d$\n",
    "  \n",
    "  - Radial basis: $K(x, x^\\prime) = \\exp(-\\gamma \\lvert x - x^\\prime \\rvert)^2$\n",
    "  \n",
    "  \n",
    "$$f(x) = \\beta_0 + \\sum_{i=1}^N \\alpha_i y_i K(x, x_i)$$"
   ]
  },
  {
   "cell_type": "markdown",
   "metadata": {
    "collapsed": true
   },
   "source": [
    "<p><a name=\"svm-sklearn\"></a></p>\n",
    "## SVM in Scikit Learn\n",
    "\n",
    "- In order to implement SVM in python, import **svm** module from sklearn library."
   ]
  },
  {
   "cell_type": "code",
   "execution_count": 1,
   "metadata": {
    "collapsed": true
   },
   "outputs": [],
   "source": [
    "from sklearn import svm\n",
    "svm_model = svm.SVC(kernel='poly', C=1e5, degree=1)"
   ]
  },
  {
   "cell_type": "markdown",
   "metadata": {},
   "source": [
    "- Here we choose the 'poly' kernel, and set the degree equals to 1, which means a linear boundary.\n",
    "- $C=1e5$ is used to decrease the effect of the error term."
   ]
  },
  {
   "cell_type": "markdown",
   "metadata": {},
   "source": [
    "### Kernels\n",
    "\n",
    "These are the kernels that sklearn offers:\n",
    "\n",
    "- **linear**: $<x_1, x_2>$.\n",
    "- **polynomial**: $(\\gamma <x_1, x_2> + r)^d$. $d$ is specified by the argument `degree`, $r$ by `coef0`.\n",
    "- **rbf**: $\\exp(-\\gamma \\parallel x_1-x_2 \\parallel^2)$. $\\gamma$ is specified by the argument `gamma`, must be greater than 0.\n",
    "- **sigmoid**: $(\\tanh(\\gamma <x_1,x_2> + r))$, where $r$ is specified by `coef0`.\n",
    "\n",
    "The linear kernel is the original feature space. In terms of the polynomial kernel, it's equivalent to linear kernel when $\\gamma=1$ and $r=0$."
   ]
  },
  {
   "cell_type": "markdown",
   "metadata": {},
   "source": [
    "### Arguments:\n",
    "\n",
    "- **kernel**: Specifies the kernel type to be used in the algorithm. It must be one of ‘linear’, ‘poly’, ‘rbf’, ‘sigmoid’, ‘precomputed’ or a callable. If none is given, ‘rbf’ will be used. If a callable is given, it is used to precompute the kernel matrix.\n",
    "\n",
    "- **C**: Penalty parameter of the error term. $C=1$ by default.\n",
    "\n",
    "- **degree**: Degree of the polynomial kernel function (‘poly’). Ignored by all other kernels."
   ]
  },
  {
   "cell_type": "markdown",
   "metadata": {},
   "source": [
    "### Methods:\n",
    "\n",
    "- **fit**: Fit the SVM model according to the given training data.\n",
    "- **score**: Return the mean accuracy on the given test data and labels.\n",
    "- **predict**: Perform classification on samples in X.\n",
    "- **set_params**: Set the parameters of this estimator.\n",
    "- **get_params**: Get the parameters of this estimator."
   ]
  },
  {
   "cell_type": "markdown",
   "metadata": {},
   "source": [
    "### Attributes:\n",
    "\n",
    "- **support\\_**: return the index of the support vectors.\n",
    "- **n\\_support\\_**: return the number of support vectors.\n",
    "- **support\\_vectors\\_**: return the value of support vectors."
   ]
  },
  {
   "cell_type": "markdown",
   "metadata": {},
   "source": [
    "<p><a name=\"1case1\"></a></p>\n",
    "### Case 1: Binary Classification\n",
    "\n",
    "We demonstrate the `svm` model on the first 100 observation of the iris data, which include two species."
   ]
  },
  {
   "cell_type": "code",
   "execution_count": 2,
   "metadata": {},
   "outputs": [
    {
     "data": {
      "text/plain": [
       "SVC(C=100000.0, cache_size=200, class_weight=None, coef0=0.0,\n",
       "  decision_function_shape='ovr', degree=1, gamma='auto', kernel='poly',\n",
       "  max_iter=-1, probability=False, random_state=None, shrinking=True,\n",
       "  tol=0.001, verbose=False)"
      ]
     },
     "execution_count": 2,
     "metadata": {},
     "output_type": "execute_result"
    }
   ],
   "source": [
    "import numpy as np\n",
    "from sklearn import datasets\n",
    "## prepare data\n",
    "iris = datasets.load_iris()\n",
    "index = range(100)\n",
    "iris.x = iris.data[index, :]\n",
    "iris.y = iris.target[index]\n",
    "## fit\n",
    "svm_model.fit(iris.x[:, 0:2], iris.y)"
   ]
  },
  {
   "cell_type": "code",
   "execution_count": 3,
   "metadata": {},
   "outputs": [
    {
     "data": {
      "text/plain": [
       "1.0"
      ]
     },
     "execution_count": 3,
     "metadata": {},
     "output_type": "execute_result"
    }
   ],
   "source": [
    "svm_model.score(iris.x[:, 0:2], iris.y)"
   ]
  },
  {
   "cell_type": "code",
   "execution_count": 4,
   "metadata": {},
   "outputs": [
    {
     "data": {
      "text/plain": [
       "array([2, 2], dtype=int32)"
      ]
     },
     "execution_count": 4,
     "metadata": {},
     "output_type": "execute_result"
    }
   ],
   "source": [
    "svm_model.n_support_"
   ]
  },
  {
   "cell_type": "code",
   "execution_count": 5,
   "metadata": {},
   "outputs": [
    {
     "name": "stdout",
     "output_type": "stream",
     "text": [
      "Index of support vector: [36 41 57 84]\n"
     ]
    }
   ],
   "source": [
    "svm_index = svm_model.support_ # index of support vector\n",
    "print('Index of support vector: ' + str(svm_index))"
   ]
  },
  {
   "cell_type": "code",
   "execution_count": 6,
   "metadata": {},
   "outputs": [
    {
     "name": "stdout",
     "output_type": "stream",
     "text": [
      "[[ 5.5  3.5]\n",
      " [ 4.5  2.3]\n",
      " [ 4.9  2.4]\n",
      " [ 5.4  3. ]]\n"
     ]
    }
   ],
   "source": [
    "## There are two support vectors in each class.\n",
    "\n",
    "support = svm_model.support_vectors_ # value of support vector\n",
    "print(support)"
   ]
  },
  {
   "cell_type": "code",
   "execution_count": 7,
   "metadata": {},
   "outputs": [
    {
     "data": {
      "text/plain": [
       "array([[ 5.5,  3.5],\n",
       "       [ 4.5,  2.3],\n",
       "       [ 4.9,  2.4],\n",
       "       [ 5.4,  3. ]])"
      ]
     },
     "execution_count": 7,
     "metadata": {},
     "output_type": "execute_result"
    }
   ],
   "source": [
    "iris.x[svm_model.support_, 0:2] # equivalent to svm_model.support_vectors_"
   ]
  },
  {
   "cell_type": "markdown",
   "metadata": {},
   "source": [
    "Below we visualize the result:"
   ]
  },
  {
   "cell_type": "code",
   "execution_count": 8,
   "metadata": {
    "collapsed": true
   },
   "outputs": [],
   "source": [
    "def plot_model(model, x, y, label):\n",
    "    \"\"\"\n",
    "    model: a fitted model\n",
    "    x, y: two variables, should be numpy arrays\n",
    "    label: true label\n",
    "    \"\"\"\n",
    "    margin = 0.5\n",
    "    x_min = x.min() - margin\n",
    "    x_max = x.max() + margin\n",
    "    y_min = y.min() - margin\n",
    "    y_max = y.max() + margin\n",
    "    import  matplotlib.pyplot as plt\n",
    "    from matplotlib import colors\n",
    "    cmap_name = 'red_blue_classes'\n",
    "    cmap = colors.LinearSegmentedColormap(\n",
    "        name=cmap_name,\n",
    "        segmentdata={\n",
    "            'red': [(0, 1, 1), (1, 0.7, 0.7)],\n",
    "            'green': [(0, 1, 0.5), (1, 0.7, 0.7)],\n",
    "            'blue': [(0, 1, 0.5), (1, 1, 1)]\n",
    "    })\n",
    "    plt.cm.register_cmap(cmap=cmap)\n",
    "    nx, ny = 200, 200\n",
    "    xx, yy = np.meshgrid(np.linspace(x_min, x_max, nx),\n",
    "                         np.linspace(y_min, y_max, ny))\n",
    "    Z = model.predict(np.c_[xx.ravel(), yy.ravel()])\n",
    "    Z = Z.reshape(xx.shape)\n",
    "    # plot colormap\n",
    "    plt.pcolormesh(xx, yy, Z, cmap=cmap_name)\n",
    "    # plot boundaries\n",
    "    plt.contour(xx, yy, Z, [0.5], linewidths=1., colors='k')\n",
    "    plt.contour(xx, yy, Z, [1], linewidths=1., colors='k')\n",
    "    # plot scatters and true labels\n",
    "    plt.scatter(x, y, c=label)\n",
    "    plt.xlim(x_min, x_max)\n",
    "    plt.ylim(y_min, y_max)\n",
    "    if hasattr(model, 'support_'):\n",
    "        # if it is a SVC model, plot the support vectors\n",
    "        index = model.support_\n",
    "        plt.scatter(x[index], y[index], c=label[index], s=200, alpha=0.33, edgecolors='k')"
   ]
  },
  {
   "cell_type": "code",
   "execution_count": 9,
   "metadata": {},
   "outputs": [
    {
     "data": {
      "image/png": "[encoded data removed]",
      "text/plain": [
       "<matplotlib.figure.Figure at 0x1103cb860>"
      ]
     },
     "metadata": {},
     "output_type": "display_data"
    }
   ],
   "source": [
    "import  matplotlib.pyplot as plt\n",
    "plt.rcParams['figure.figsize'] = 8, 6\n",
    "svm_model.fit(iris.data[index, 0:2], iris.target[index])\n",
    "plot_model(svm_model, iris.data[index, 0], iris.data[index, 1], iris.target[index])\n",
    "plt.xlabel('Sepal Length')\n",
    "plt.ylabel('Sepal Width')\n",
    "plt.show()"
   ]
  },
  {
   "cell_type": "markdown",
   "metadata": {},
   "source": [
    "#### Change the Degree\n",
    "\n",
    "This time we set *degree=3*, which result in a cubic boundary:"
   ]
  },
  {
   "cell_type": "code",
   "execution_count": 10,
   "metadata": {},
   "outputs": [
    {
     "data": {
      "image/png": "[encoded data removed]",
      "text/plain": [
       "<matplotlib.figure.Figure at 0x11a708a58>"
      ]
     },
     "metadata": {},
     "output_type": "display_data"
    }
   ],
   "source": [
    "svm_model.set_params(degree=3)\n",
    "svm_model.fit(iris.data[index, 0:2], iris.target[index])\n",
    "plot_model(svm_model, iris.data[index, 0], iris.data[index, 1], iris.target[index])\n",
    "plt.xlabel('Sepal Length')\n",
    "plt.ylabel('Sepal Width')\n",
    "plt.show()"
   ]
  },
  {
   "cell_type": "markdown",
   "metadata": {},
   "source": [
    "<p><a name=\"1ex1\"></a></p>\n",
    "### Exercise\n",
    "\n",
    "With the `svm_model` from the previous slide:\n",
    "- Compute the accuracy."
   ]
  },
  {
   "cell_type": "code",
   "execution_count": 11,
   "metadata": {},
   "outputs": [
    {
     "data": {
      "text/plain": [
       "1.0"
      ]
     },
     "execution_count": 11,
     "metadata": {},
     "output_type": "execute_result"
    }
   ],
   "source": [
    "#### Your code here\n",
    "svm_model.score(iris.data[index, 0:2], iris.target[index])"
   ]
  },
  {
   "cell_type": "markdown",
   "metadata": {},
   "source": [
    "- Find out all the support vectors."
   ]
  },
  {
   "cell_type": "code",
   "execution_count": 12,
   "metadata": {},
   "outputs": [
    {
     "data": {
      "text/plain": [
       "array([[ 5.5,  3.5],\n",
       "       [ 4.5,  2.3],\n",
       "       [ 4.9,  2.4]])"
      ]
     },
     "execution_count": 12,
     "metadata": {},
     "output_type": "execute_result"
    }
   ],
   "source": [
    "#### Your code here\n",
    "svm_model.support_vectors_"
   ]
  },
  {
   "cell_type": "markdown",
   "metadata": {},
   "source": [
    "- Which classes do they belong to?"
   ]
  },
  {
   "cell_type": "code",
   "execution_count": 13,
   "metadata": {},
   "outputs": [
    {
     "data": {
      "text/plain": [
       "array([0, 0, 1])"
      ]
     },
     "execution_count": 13,
     "metadata": {},
     "output_type": "execute_result"
    }
   ],
   "source": [
    "#### Your code here\n",
    "svm_model.predict(svm_model.support_vectors_)"
   ]
  },
  {
   "cell_type": "markdown",
   "metadata": {},
   "source": [
    "<p><a name=\"1case2\"></a></p>\n",
    "### Case 2: Multiclass Classification\n",
    "\n",
    "- In cases of multiclass classification problem, **SVC** implement a *one vs one* approach.\n",
    "\n",
    "- If there are $k$ different classes in total, then $\\frac{k(k-1)}{2}$ classifiers are constructed.\n",
    "\n",
    "For instance, 3 classes 0, 1 and 2 will result in 3 classifiers:\n",
    "\n",
    "- class 0 VS class 1\n",
    "- class 0 VS class 2\n",
    "- class 1 VS class 2\n",
    "\n",
    "\n",
    "\n",
    "This time we use all the observations in the iris data to build a multiclass classifier. And we choose the last two features \"petal length\" and \"petal width\"."
   ]
  },
  {
   "cell_type": "code",
   "execution_count": 14,
   "metadata": {},
   "outputs": [
    {
     "data": {
      "text/plain": [
       "0.95999999999999996"
      ]
     },
     "execution_count": 14,
     "metadata": {},
     "output_type": "execute_result"
    }
   ],
   "source": [
    "svm_model.set_params(degree=1) # reset degree to 1 to build a linear classifier\n",
    "svm_model.fit(iris.data[:, 2:4], iris.target) # fit on all the observations\n",
    "svm_model.score(iris.data[:, 2:4], iris.target) # accuracy"
   ]
  },
  {
   "cell_type": "code",
   "execution_count": 15,
   "metadata": {},
   "outputs": [
    {
     "data": {
      "text/plain": [
       "array([0])"
      ]
     },
     "execution_count": 15,
     "metadata": {},
     "output_type": "execute_result"
    }
   ],
   "source": [
    "## Make a prediction:\n",
    "svm_model.predict([[1, 4]])"
   ]
  },
  {
   "cell_type": "markdown",
   "metadata": {},
   "source": [
    "Visualize the result:"
   ]
  },
  {
   "cell_type": "code",
   "execution_count": 16,
   "metadata": {},
   "outputs": [
    {
     "data": {
      "image/png": "[encoded data removed]",
      "text/plain": [
       "<matplotlib.figure.Figure at 0x11a448f98>"
      ]
     },
     "metadata": {},
     "output_type": "display_data"
    }
   ],
   "source": [
    "plot_model(svm_model, iris.data[:, 2], iris.data[:, 3], iris.target)\n",
    "plt.xlabel('Petal Length')\n",
    "plt.ylabel('Petal Width')\n",
    "plt.show()"
   ]
  },
  {
   "cell_type": "markdown",
   "metadata": {},
   "source": [
    "<p><a name=\"1ex2\"></a></p>\n",
    "### Exercise\n",
    "\n",
    "Predict the following observations with the model we created and then confirm the result with the visualization in the previous slide.\n",
    "- petal length: 1.5, petal width: 0.5\n",
    "- petal length: 4.0, petal width: 0.5\n",
    "- petal length: 6.0, petal width: 2.5"
   ]
  },
  {
   "cell_type": "code",
   "execution_count": 17,
   "metadata": {},
   "outputs": [
    {
     "data": {
      "text/plain": [
       "array([0, 1, 2])"
      ]
     },
     "execution_count": 17,
     "metadata": {},
     "output_type": "execute_result"
    }
   ],
   "source": [
    "#### Your code here\n",
    "\n",
    "svm_model.predict([[1.5, 0.5], [4.0, 0.5], [6.0, 2.5]])"
   ]
  },
  {
   "cell_type": "markdown",
   "metadata": {},
   "source": [
    "Below we change to a different constant `C` (reset `C = 1` from `C=1e5` to decrease the effect of penalty)"
   ]
  },
  {
   "cell_type": "code",
   "execution_count": 18,
   "metadata": {},
   "outputs": [
    {
     "data": {
      "text/plain": [
       "0.96666666666666667"
      ]
     },
     "execution_count": 18,
     "metadata": {},
     "output_type": "execute_result"
    }
   ],
   "source": [
    "svm_model.set_params(C=1)\n",
    "svm_model.fit(iris.data[:, 2:4], iris.target) \n",
    "svm_model.score(iris.data[:, 2:4], iris.target) "
   ]
  },
  {
   "cell_type": "code",
   "execution_count": 19,
   "metadata": {},
   "outputs": [
    {
     "data": {
      "image/png": "[encoded data removed]",
      "text/plain": [
       "<matplotlib.figure.Figure at 0x1194eec18>"
      ]
     },
     "metadata": {},
     "output_type": "display_data"
    }
   ],
   "source": [
    "plot_model(svm_model, iris.data[:, 2], iris.data[:, 3], iris.target)\n",
    "plt.xlabel('Petal Length')\n",
    "plt.ylabel('Petal Width')\n",
    "plt.show()"
   ]
  },
  {
   "cell_type": "markdown",
   "metadata": {},
   "source": [
    "<p><a name=\"1caes3\"></a></p>\n",
    "### Case 3: Grid Search\n",
    "\n",
    "There are many parameters to be set in SVM:\n",
    "\n",
    "- Which kernel.\n",
    "- The value of $C. \\quad$\n",
    "- The degree in polynomial kernel.\n",
    "\n",
    "We can use the function **grid_search.GridSearchCV** to select the best combination of parameters."
   ]
  },
  {
   "cell_type": "code",
   "execution_count": 20,
   "metadata": {
    "collapsed": true
   },
   "outputs": [],
   "source": [
    "from sklearn import model_selection\n",
    "grid_para_svm = [\n",
    "    {'C': [1, 10, 100, 1000],\n",
    "     'kernel': ['poly'],\n",
    "     'degree': [1, 2, 3]},\n",
    "    {'C': [1, 10, 100, 1000],\n",
    "     'gamma': [0.001, 0.0001],\n",
    "     'kernel': ['rbf']}\n",
    "]"
   ]
  },
  {
   "cell_type": "code",
   "execution_count": 21,
   "metadata": {},
   "outputs": [
    {
     "data": {
      "text/plain": [
       "GridSearchCV(cv=3, error_score='raise',\n",
       "       estimator=SVC(C=1, cache_size=200, class_weight=None, coef0=0.0,\n",
       "  decision_function_shape='ovr', degree=1, gamma='auto', kernel='poly',\n",
       "  max_iter=-1, probability=False, random_state=None, shrinking=True,\n",
       "  tol=0.001, verbose=False),\n",
       "       fit_params=None, iid=True, n_jobs=-1,\n",
       "       param_grid=[{'C': [1, 10, 100, 1000], 'kernel': ['poly'], 'degree': [1, 2, 3]}, {'C': [1, 10, 100, 1000], 'gamma': [0.001, 0.0001], 'kernel': ['rbf']}],\n",
       "       pre_dispatch='2*n_jobs', refit=True, return_train_score=True,\n",
       "       scoring='accuracy', verbose=0)"
      ]
     },
     "execution_count": 21,
     "metadata": {},
     "output_type": "execute_result"
    }
   ],
   "source": [
    "grid_search_svm = model_selection.GridSearchCV(svm_model, grid_para_svm, scoring='accuracy', cv=3, n_jobs=-1)\n",
    "grid_search_svm.fit(iris.data, iris.target)"
   ]
  },
  {
   "cell_type": "markdown",
   "metadata": {},
   "source": [
    "Inspect the result of grid search."
   ]
  },
  {
   "cell_type": "code",
   "execution_count": 22,
   "metadata": {},
   "outputs": [
    {
     "data": {
      "text/plain": [
       "{'mean_fit_time': array([ 0.00538929,  0.00545271,  0.00245897,  0.00100223,  0.00126497,\n",
       "         0.00397786,  0.0011603 ,  0.00537562,  0.01441042,  0.00078464,\n",
       "         0.01027671,  0.02787193,  0.00135271,  0.00113336,  0.00083335,\n",
       "         0.0013113 ,  0.00093007,  0.00112168,  0.00078106,  0.00073258]),\n",
       " 'mean_score_time': array([ 0.001249  ,  0.00075912,  0.00065732,  0.00046166,  0.00044727,\n",
       "         0.00043273,  0.00039355,  0.00035993,  0.00056728,  0.00037917,\n",
       "         0.00046929,  0.00037193,  0.00065072,  0.00049392,  0.00064333,\n",
       "         0.00062188,  0.00048081,  0.00055846,  0.00042399,  0.00040531]),\n",
       " 'mean_test_score': array([ 0.96666667,  0.96666667,  0.96666667,  0.97333333,  0.96666667,\n",
       "         0.96666667,  0.97333333,  0.96666667,  0.96      ,  0.97333333,\n",
       "         0.96666667,  0.96      ,  0.91333333,  0.91333333,  0.94666667,\n",
       "         0.91333333,  0.97333333,  0.94666667,  0.98666667,  0.97333333]),\n",
       " 'mean_train_score': array([ 0.97682709,  0.97999604,  0.98336304,  0.98336304,  0.98336304,\n",
       "         0.98673005,  0.98336304,  0.98336304,  0.99336502,  0.98336304,\n",
       "         0.98673005,  0.99673203,  0.92028124,  0.92028124,  0.9402852 ,\n",
       "         0.92028124,  0.97346009,  0.9402852 ,  0.98663102,  0.97346009]),\n",
       " 'param_C': masked_array(data = [1 1 1 10 10 10 100 100 100 1000 1000 1000 1 1 10 10 100 100 1000 1000],\n",
       "              mask = [False False False False False False False False False False False False\n",
       "  False False False False False False False False],\n",
       "        fill_value = ?),\n",
       " 'param_degree': masked_array(data = [1 2 3 1 2 3 1 2 3 1 2 3 -- -- -- -- -- -- -- --],\n",
       "              mask = [False False False False False False False False False False False False\n",
       "   True  True  True  True  True  True  True  True],\n",
       "        fill_value = ?),\n",
       " 'param_gamma': masked_array(data = [-- -- -- -- -- -- -- -- -- -- -- -- 0.001 0.0001 0.001 0.0001 0.001 0.0001\n",
       "  0.001 0.0001],\n",
       "              mask = [ True  True  True  True  True  True  True  True  True  True  True  True\n",
       "  False False False False False False False False],\n",
       "        fill_value = ?),\n",
       " 'param_kernel': masked_array(data = ['poly' 'poly' 'poly' 'poly' 'poly' 'poly' 'poly' 'poly' 'poly' 'poly'\n",
       "  'poly' 'poly' 'rbf' 'rbf' 'rbf' 'rbf' 'rbf' 'rbf' 'rbf' 'rbf'],\n",
       "              mask = [False False False False False False False False False False False False\n",
       "  False False False False False False False False],\n",
       "        fill_value = ?),\n",
       " 'params': [{'C': 1, 'degree': 1, 'kernel': 'poly'},\n",
       "  {'C': 1, 'degree': 2, 'kernel': 'poly'},\n",
       "  {'C': 1, 'degree': 3, 'kernel': 'poly'},\n",
       "  {'C': 10, 'degree': 1, 'kernel': 'poly'},\n",
       "  {'C': 10, 'degree': 2, 'kernel': 'poly'},\n",
       "  {'C': 10, 'degree': 3, 'kernel': 'poly'},\n",
       "  {'C': 100, 'degree': 1, 'kernel': 'poly'},\n",
       "  {'C': 100, 'degree': 2, 'kernel': 'poly'},\n",
       "  {'C': 100, 'degree': 3, 'kernel': 'poly'},\n",
       "  {'C': 1000, 'degree': 1, 'kernel': 'poly'},\n",
       "  {'C': 1000, 'degree': 2, 'kernel': 'poly'},\n",
       "  {'C': 1000, 'degree': 3, 'kernel': 'poly'},\n",
       "  {'C': 1, 'gamma': 0.001, 'kernel': 'rbf'},\n",
       "  {'C': 1, 'gamma': 0.0001, 'kernel': 'rbf'},\n",
       "  {'C': 10, 'gamma': 0.001, 'kernel': 'rbf'},\n",
       "  {'C': 10, 'gamma': 0.0001, 'kernel': 'rbf'},\n",
       "  {'C': 100, 'gamma': 0.001, 'kernel': 'rbf'},\n",
       "  {'C': 100, 'gamma': 0.0001, 'kernel': 'rbf'},\n",
       "  {'C': 1000, 'gamma': 0.001, 'kernel': 'rbf'},\n",
       "  {'C': 1000, 'gamma': 0.0001, 'kernel': 'rbf'}],\n",
       " 'rank_test_score': array([ 7,  7,  7,  2,  7,  7,  2,  7, 14,  2,  7, 14, 18, 18, 16, 18,  2,\n",
       "        16,  1,  2], dtype=int32),\n",
       " 'split0_test_score': array([ 0.98039216,  1.        ,  1.        ,  1.        ,  1.        ,\n",
       "         1.        ,  1.        ,  1.        ,  0.98039216,  1.        ,\n",
       "         1.        ,  0.98039216,  0.90196078,  0.90196078,  0.94117647,\n",
       "         0.90196078,  0.98039216,  0.94117647,  1.        ,  0.98039216]),\n",
       " 'split0_train_score': array([ 0.96969697,  0.95959596,  0.96969697,  0.96969697,  0.96969697,\n",
       "         0.97979798,  0.96969697,  0.96969697,  0.98989899,  0.96969697,\n",
       "         0.97979798,  1.        ,  0.91919192,  0.91919192,  0.93939394,\n",
       "         0.91919192,  0.96969697,  0.93939394,  0.96969697,  0.96969697]),\n",
       " 'split1_test_score': array([ 0.94117647,  0.90196078,  0.90196078,  0.92156863,  0.90196078,\n",
       "         0.90196078,  0.92156863,  0.90196078,  0.90196078,  0.92156863,\n",
       "         0.90196078,  0.90196078,  0.90196078,  0.90196078,  0.92156863,\n",
       "         0.90196078,  0.96078431,  0.92156863,  0.96078431,  0.96078431]),\n",
       " 'split1_train_score': array([ 1.        ,  1.        ,  1.        ,  1.        ,  1.        ,\n",
       "         1.        ,  1.        ,  1.        ,  1.        ,  1.        ,\n",
       "         1.        ,  1.        ,  0.94949495,  0.94949495,  0.96969697,\n",
       "         0.94949495,  0.98989899,  0.96969697,  1.        ,  0.98989899]),\n",
       " 'split2_test_score': array([ 0.97916667,  1.        ,  1.        ,  1.        ,  1.        ,\n",
       "         1.        ,  1.        ,  1.        ,  1.        ,  1.        ,\n",
       "         1.        ,  1.        ,  0.9375    ,  0.9375    ,  0.97916667,\n",
       "         0.9375    ,  0.97916667,  0.97916667,  1.        ,  0.97916667]),\n",
       " 'split2_train_score': array([ 0.96078431,  0.98039216,  0.98039216,  0.98039216,  0.98039216,\n",
       "         0.98039216,  0.98039216,  0.98039216,  0.99019608,  0.98039216,\n",
       "         0.98039216,  0.99019608,  0.89215686,  0.89215686,  0.91176471,\n",
       "         0.89215686,  0.96078431,  0.91176471,  0.99019608,  0.96078431]),\n",
       " 'std_fit_time': array([  2.47230063e-03,   1.58745947e-03,   1.28701005e-03,\n",
       "          4.16619501e-04,   6.47855840e-04,   2.41684819e-03,\n",
       "          6.97109570e-04,   6.12483803e-03,   1.64700377e-02,\n",
       "          9.04259366e-05,   6.91525398e-03,   2.21137649e-02,\n",
       "          1.92398951e-04,   1.42813768e-04,   1.34429511e-04,\n",
       "          2.48756398e-05,   2.04780418e-04,   1.64577950e-04,\n",
       "          8.76708482e-05,   1.44565086e-04]),\n",
       " 'std_score_time': array([  1.34255043e-05,   3.23860611e-04,   3.19719996e-04,\n",
       "          3.94913746e-05,   3.56869423e-05,   2.42070208e-05,\n",
       "          1.26554135e-05,   3.67470678e-06,   1.83274409e-04,\n",
       "          1.61636934e-05,   6.18852255e-05,   7.57558543e-05,\n",
       "          1.11455069e-04,   2.59232623e-05,   2.82128092e-04,\n",
       "          5.01308096e-05,   3.56153699e-05,   3.01209477e-05,\n",
       "          1.33419760e-05,   3.15380111e-05]),\n",
       " 'std_test_score': array([ 0.01830211,  0.04644204,  0.04644204,  0.03715363,  0.04644204,\n",
       "         0.04644204,  0.03715363,  0.04644204,  0.042411  ,  0.03715363,\n",
       "         0.04644204,  0.042411  ,  0.0165782 ,  0.0165782 ,  0.02371536,\n",
       "         0.0165782 ,  0.00902067,  0.02371536,  0.01857681,  0.00902067]),\n",
       " 'std_train_score': array([ 0.01678484,  0.01649726,  0.01254825,  0.01254825,  0.01254825,\n",
       "         0.00938641,  0.01254825,  0.01254825,  0.0046932 ,  0.01254825,\n",
       "         0.00938641,  0.00462161,  0.02342085,  0.02342085,  0.02365914,\n",
       "         0.02342085,  0.01218023,  0.02365914,  0.01262539,  0.01218023])}"
      ]
     },
     "execution_count": 22,
     "metadata": {},
     "output_type": "execute_result"
    }
   ],
   "source": [
    "grid_search_svm.cv_results_"
   ]
  },
  {
   "cell_type": "markdown",
   "metadata": {},
   "source": [
    "The best combination of parameters is:"
   ]
  },
  {
   "cell_type": "code",
   "execution_count": 23,
   "metadata": {},
   "outputs": [
    {
     "data": {
      "text/plain": [
       "{'C': 1000, 'gamma': 0.001, 'kernel': 'rbf'}"
      ]
     },
     "execution_count": 23,
     "metadata": {},
     "output_type": "execute_result"
    }
   ],
   "source": [
    "grid_search_svm.best_params_"
   ]
  },
  {
   "cell_type": "code",
   "execution_count": 24,
   "metadata": {},
   "outputs": [
    {
     "data": {
      "text/plain": [
       "0.98666666666666669"
      ]
     },
     "execution_count": 24,
     "metadata": {},
     "output_type": "execute_result"
    }
   ],
   "source": [
    "## The best score is\n",
    "grid_search_svm.best_score_"
   ]
  },
  {
   "cell_type": "code",
   "execution_count": 25,
   "metadata": {},
   "outputs": [
    {
     "data": {
      "text/plain": [
       "0.97999999999999998"
      ]
     },
     "execution_count": 25,
     "metadata": {},
     "output_type": "execute_result"
    }
   ],
   "source": [
    "## The performance on the original data set is:\n",
    "grid_search_svm.score(iris.data, iris.target)"
   ]
  },
  {
   "cell_type": "markdown",
   "metadata": {},
   "source": [
    "It seems `best_score_` from grid search is better than the score on the whole training data. Does that make sense?"
   ]
  },
  {
   "cell_type": "code",
   "execution_count": 26,
   "metadata": {
    "collapsed": true
   },
   "outputs": [],
   "source": [
    "from sklearn.model_selection import GridSearchCV, StratifiedKFold\n",
    "lst1 = []\n",
    "lst2 = []\n",
    "for i in range(50):\n",
    "    index = np.random.choice(range(150), size=150, replace=False)\n",
    "    x = iris.data[index,:]\n",
    "    y = iris.target[index]\n",
    "    skf = StratifiedKFold(n_splits=3)\n",
    "    grid_search_svm = GridSearchCV(svm_model, grid_para_svm, scoring='accuracy', cv=skf)\n",
    "    grid_search_svm.fit(x, y)\n",
    "    lst1.append(grid_search_svm.best_score_)\n",
    "    lst2.append(grid_search_svm.score(x, y))"
   ]
  },
  {
   "cell_type": "code",
   "execution_count": 27,
   "metadata": {},
   "outputs": [
    {
     "name": "stdout",
     "output_type": "stream",
     "text": [
      "0.9764\n",
      "0.9808\n"
     ]
    }
   ],
   "source": [
    "print(np.mean(lst1))\n",
    "print(np.mean(lst2))"
   ]
  },
  {
   "cell_type": "markdown",
   "metadata": {
    "collapsed": true
   },
   "source": [
    "<p><a name=\"tree\"></a></p>\n",
    "## Decision Tree in Scikit Learn\n",
    "\n",
    "- Similar to regression, we use the same procedure to fit a classification tree.\n",
    "\n",
    "- For regression we used the RSS to determine the splitting,  what should we use for classification? Two commonly used metrics are:\n",
    "\n",
    "  - gini impurity: $I_G(f) = \\sum_{i=1}^m f_i(1-f_i)$\n",
    "\n",
    "  - information gain: $I_E(f) = -\\sum_{i=1}^m f_i \\log_2(f_i)$\n",
    "  \n",
    "where $f_i$ is the fraction of items labeled with $i$ in the set and $\\sum f_i = 1$."
   ]
  },
  {
   "cell_type": "code",
   "execution_count": 28,
   "metadata": {},
   "outputs": [
    {
     "data": {
      "image/png": "[encoded data removed]",
      "text/plain": [
       "<matplotlib.figure.Figure at 0x11a7b6358>"
      ]
     },
     "metadata": {},
     "output_type": "display_data"
    }
   ],
   "source": [
    "import math\n",
    "x = np.linspace(start=.001, stop=.999, num=100)  # math.log won't accept 0 or 1\n",
    "y1 = list(map(lambda i: 2 * i * (1 - i), x))\n",
    "y2 = list(map(lambda t: -t * math.log(t, 2) - (1 - t) * math.log((1 - t), 2), x))\n",
    "\n",
    "plt.plot(x, y1, label='gini')\n",
    "plt.plot(x, y2, label='entropy')\n",
    "plt.legend(loc=1)\n",
    "plt.show()"
   ]
  },
  {
   "cell_type": "markdown",
   "metadata": {},
   "source": [
    "<p><a name=\"2ex1\"></a></p>\n",
    "### Exercise : Gini impurity and Information Gain\n",
    "\n",
    "- We will use the `purity` function defined below:"
   ]
  },
  {
   "cell_type": "code",
   "execution_count": 29,
   "metadata": {
    "collapsed": true
   },
   "outputs": [],
   "source": [
    "from collections import Counter\n",
    "import math\n",
    "\n",
    "def purity(L, metric='gini'):\n",
    "    total = len(L)\n",
    "    freq = map(lambda x: float(x) / total, list(Counter(L).values()))\n",
    "    if metric == 'gini':\n",
    "        scores = map(lambda x: x * (1 - x), freq)\n",
    "    elif metric == 'entropy':\n",
    "        scores = map(lambda x: -x * math.log(x, 2), freq)\n",
    "    return sum(scores)"
   ]
  },
  {
   "cell_type": "markdown",
   "metadata": {},
   "source": [
    "Suppose there are 10 people in a group, 5 male and 5 female. Their heights are listed below\n",
    "\n",
    "5'2\"|5'3\"|5'5\"|5'6\"|5'6\"|5'7\"|5'7\"|5'8\"|5'10\"|5'11\"\n",
    "-|-|-|-|-|-|-|-|-|-\n",
    "f|f|f|f|m|f|m|m|m|m\n",
    "\n",
    "\n",
    "L = ['f','f','f','f','m','f','m','m','m','m']\n",
    "- What is the gini impurity?"
   ]
  },
  {
   "cell_type": "code",
   "execution_count": 30,
   "metadata": {},
   "outputs": [
    {
     "name": "stdout",
     "output_type": "stream",
     "text": [
      "0.5\n"
     ]
    }
   ],
   "source": [
    "#### Your code here\n",
    "\n",
    "L = ['f', 'f', 'f', 'f', 'm', 'f', 'm', 'm', 'm', 'm']\n",
    "gini = purity(L)\n",
    "print(gini)"
   ]
  },
  {
   "cell_type": "markdown",
   "metadata": {},
   "source": [
    "- If we split the group from the middle (between 5'6\" and 5'7\") into \n",
    "  - L1 = ['f','f','f','f','m'], and \n",
    "  - L1 = ['f','m','m','m','m'],\n",
    "  what is the weighted sum of gini impurity? And what is the change of gini impurity before and after splitting?"
   ]
  },
  {
   "cell_type": "code",
   "execution_count": 31,
   "metadata": {},
   "outputs": [
    {
     "name": "stdout",
     "output_type": "stream",
     "text": [
      "0.32\n",
      "0.18\n"
     ]
    }
   ],
   "source": [
    "#### Your code here\n",
    "\n",
    "gini_split = 0.5 * purity(L[:5]) + 0.5 * purity(L[5:])\n",
    "print(gini_split)\n",
    "print(gini - gini_split)"
   ]
  },
  {
   "cell_type": "markdown",
   "metadata": {},
   "source": [
    "- Try different cutpoints to see which points gives the maximum difference? How can we use this cutpoint for our prediction? "
   ]
  },
  {
   "cell_type": "code",
   "execution_count": 32,
   "metadata": {},
   "outputs": [
    {
     "data": {
      "image/png": "[encoded data removed]",
      "text/plain": [
       "<matplotlib.figure.Figure at 0x11e3d9438>"
      ]
     },
     "metadata": {},
     "output_type": "display_data"
    }
   ],
   "source": [
    "import matplotlib.pyplot as plt\n",
    "x = range(1, len(L))\n",
    "func = lambda i: gini - i * purity(L[:i]) / len(L) - (len(L) - i) * purity(L[i:]) / len(L)\n",
    "y = list(map(func, x))\n",
    "plt.scatter(x, y)\n",
    "plt.show()"
   ]
  },
  {
   "cell_type": "markdown",
   "metadata": {},
   "source": [
    "## Decision Tree in Scikit Learn\n",
    "\n",
    "The function **tree.DecisionTreeClassifier** in sklearn can be used to implement decision tree."
   ]
  },
  {
   "cell_type": "code",
   "execution_count": 33,
   "metadata": {
    "collapsed": true
   },
   "outputs": [],
   "source": [
    "from sklearn import tree\n",
    "tree_model = tree.DecisionTreeClassifier()"
   ]
  },
  {
   "cell_type": "markdown",
   "metadata": {},
   "source": [
    "### Arguments:\n",
    "\n",
    "- **criterion**: \"gini\" or \"entropy\", corresponding to the criteria of \"gini impurity\" and \"information gain\". default = 'gini'.\n",
    "\n",
    "- **max_depth**: The maximum depth of the tree. default = None, which means the nodes will be expanded until all leaves are pure or until all leaves contain less than min_samples_split samples.\n",
    "\n",
    "- **min_samples_split**: The minimum number of samples required to split. default = 2.\n",
    "\n",
    "- **min_samples_leaf **: The minimum number of samples required to be at a terminate node. default = 1."
   ]
  },
  {
   "cell_type": "markdown",
   "metadata": {},
   "source": [
    "### Methods:\n",
    "\n",
    "- **fit**: Build a decision tree from the training set (X, y).\n",
    "\n",
    "- **predict**: \tPredict class or regression value for X.\n",
    "\n",
    "- **predict_log_proba**\tPredict class log-probabilities of the input samples X.\n",
    "\n",
    "- **predict_proba**\tPredict class probabilities of the input samples X.\n",
    "\n",
    "- **score**:\tReturn the mean accuracy on the given test data and labels.\n",
    "\n",
    "- **set_params**:\tSet the parameters of this estimator.\n",
    "\n",
    "- **get_params**: Get parameters for this estimator."
   ]
  },
  {
   "cell_type": "markdown",
   "metadata": {},
   "source": [
    "### Attributes:\n",
    "\n",
    "- **tree\\_**: Tree object, the underlying tree object.\n",
    "\n",
    "- **feature\\_importances\\_**: The feature importances. The higher, the more important the feature. Also known as gini importance."
   ]
  },
  {
   "cell_type": "markdown",
   "metadata": {},
   "source": [
    "<p><a name=\"2case1\"></a></p>\n",
    "### Case 1: Iris Data\n",
    "\n",
    "We use all the observations and the last two features, \"petal length\" and \"petal width\", in the iris data to build a decision-tree."
   ]
  },
  {
   "cell_type": "code",
   "execution_count": 34,
   "metadata": {},
   "outputs": [
    {
     "data": {
      "text/plain": [
       "DecisionTreeClassifier(class_weight=None, criterion='gini', max_depth=None,\n",
       "            max_features=None, max_leaf_nodes=None,\n",
       "            min_impurity_decrease=0.0, min_impurity_split=None,\n",
       "            min_samples_leaf=1, min_samples_split=2,\n",
       "            min_weight_fraction_leaf=0.0, presort=False, random_state=None,\n",
       "            splitter='best')"
      ]
     },
     "execution_count": 34,
     "metadata": {},
     "output_type": "execute_result"
    }
   ],
   "source": [
    "from sklearn import datasets\n",
    "iris = datasets.load_iris()\n",
    "tree_model.fit(iris.data[:, 2:4], iris.target)"
   ]
  },
  {
   "cell_type": "markdown",
   "metadata": {},
   "source": [
    "We can find the performance of the model and the importance of each feature. "
   ]
  },
  {
   "cell_type": "code",
   "execution_count": 35,
   "metadata": {},
   "outputs": [
    {
     "data": {
      "text/plain": [
       "0.99333333333333329"
      ]
     },
     "execution_count": 35,
     "metadata": {},
     "output_type": "execute_result"
    }
   ],
   "source": [
    "## We can see that the performance of decision tree is amazingly good!\n",
    "tree_model.score(iris.data[:, 2:4], iris.target)"
   ]
  },
  {
   "cell_type": "code",
   "execution_count": 36,
   "metadata": {},
   "outputs": [
    {
     "name": "stdout",
     "output_type": "stream",
     "text": [
      "[ 0.57167834  0.42832166]\n"
     ]
    }
   ],
   "source": [
    "print(tree_model.feature_importances_)"
   ]
  },
  {
   "cell_type": "markdown",
   "metadata": {},
   "source": [
    "We visualize the decision boundary of the tree:"
   ]
  },
  {
   "cell_type": "code",
   "execution_count": 37,
   "metadata": {},
   "outputs": [
    {
     "data": {
      "image/png": "[encoded data removed]",
      "text/plain": [
       "<matplotlib.figure.Figure at 0x11db93cf8>"
      ]
     },
     "metadata": {},
     "output_type": "display_data"
    }
   ],
   "source": [
    "plot_model(tree_model, iris.data[:, 2], iris.data[:, 3], iris.target)\n",
    "plt.xlabel('Petal Length')\n",
    "plt.ylabel('Petal Width')\n",
    "plt.show()"
   ]
  },
  {
   "cell_type": "markdown",
   "metadata": {},
   "source": [
    "<p><a name=\"2case2\"></a></p>\n",
    "### Case 2: Spam Filter\n",
    "\n",
    "In this case we try to fit a decision tree on the spam data set."
   ]
  },
  {
   "cell_type": "code",
   "execution_count": 38,
   "metadata": {
    "collapsed": true
   },
   "outputs": [],
   "source": [
    "# prepare data \n",
    "import pandas as pd\n",
    "import numpy as np\n",
    "train = pd.read_csv('data/spam_train.csv')\n",
    "test = pd.read_csv('data/spam_test.csv')\n",
    "## separate the predictors and response in the training data set\n",
    "x_train = np.array(train.iloc[:, 0:57])\n",
    "y_train = np.ravel(train.iloc[:, -1])\n",
    "## separate the predictors and response in the test data set\n",
    "x_test = np.array(test.iloc[:, 0:57])\n",
    "y_test = np.ravel(test.iloc[:, -1])"
   ]
  },
  {
   "cell_type": "markdown",
   "metadata": {},
   "source": [
    "Fit on the training data directly:"
   ]
  },
  {
   "cell_type": "code",
   "execution_count": 39,
   "metadata": {},
   "outputs": [
    {
     "name": "stdout",
     "output_type": "stream",
     "text": [
      "The training error is: 0.00043\n",
      "The test     error is: 0.10083\n"
     ]
    }
   ],
   "source": [
    "tree_model.fit(x_train, y_train)\n",
    "train_error = (1 - tree_model.score(x_train, y_train))\n",
    "test_error = (1 - tree_model.score(x_test, y_test))\n",
    "print(\"The training error is: %.5f\" %train_error)\n",
    "print(\"The test     error is: %.5f\" %test_error)"
   ]
  },
  {
   "cell_type": "markdown",
   "metadata": {},
   "source": [
    "- The training error here is also very low.\n",
    "- The test error, however, is significantly higher than the training error.\n",
    "- Despite the differences in error, decision tree performs quite well compared to other models."
   ]
  },
  {
   "cell_type": "markdown",
   "metadata": {},
   "source": [
    "The decision tree returns importance. We see that there a lot of features with zero importance, which allow feature selection."
   ]
  },
  {
   "cell_type": "code",
   "execution_count": 40,
   "metadata": {},
   "outputs": [
    {
     "data": {
      "text/plain": [
       "array([ 0.00185947,  0.00152444,  0.00218315,  0.        ,  0.01380423,\n",
       "        0.00311232,  0.17185104,  0.00920632,  0.0031167 ,  0.01475845,\n",
       "        0.00728697,  0.00246904,  0.        ,  0.00054975,  0.00159188,\n",
       "        0.02773903,  0.00544088,  0.00831559,  0.01907996,  0.00052881,\n",
       "        0.01666189,  0.        ,  0.003879  ,  0.00946317,  0.06859392,\n",
       "        0.        ,  0.00368922,  0.00241235,  0.00176496,  0.        ,\n",
       "        0.        ,  0.        ,  0.00136447,  0.        ,  0.        ,\n",
       "        0.00166187,  0.00240505,  0.        ,  0.01298095,  0.        ,\n",
       "        0.        ,  0.00517029,  0.00355416,  0.        ,  0.00997887,\n",
       "        0.0184011 ,  0.00121286,  0.        ,  0.00163333,  0.01321232,\n",
       "        0.00349707,  0.08772276,  0.3220033 ,  0.00265043,  0.03274122,\n",
       "        0.02819179,  0.05073563])"
      ]
     },
     "execution_count": 40,
     "metadata": {},
     "output_type": "execute_result"
    }
   ],
   "source": [
    "tree_model.feature_importances_"
   ]
  },
  {
   "cell_type": "markdown",
   "metadata": {},
   "source": [
    "<p><a name=\"2case3\"></a></p>\n",
    "### Case 3: Grid Search \n",
    "\n",
    "- Since the test error is much higher than training error, the model may overfit the training data.\n",
    "- Use cross-validation to find out the best parameters and evaluate the model."
   ]
  },
  {
   "cell_type": "code",
   "execution_count": 41,
   "metadata": {},
   "outputs": [
    {
     "name": "stdout",
     "output_type": "stream",
     "text": [
      "CPU times: user 3.35 s, sys: 142 ms, total: 3.49 s\n",
      "Wall time: 21.3 s\n"
     ]
    },
    {
     "data": {
      "text/plain": [
       "GridSearchCV(cv=5, error_score='raise',\n",
       "       estimator=DecisionTreeClassifier(class_weight=None, criterion='gini', max_depth=None,\n",
       "            max_features=None, max_leaf_nodes=None,\n",
       "            min_impurity_decrease=0.0, min_impurity_split=None,\n",
       "            min_samples_leaf=1, min_samples_split=2,\n",
       "            min_weight_fraction_leaf=0.0, presort=False, random_state=108,\n",
       "            splitter='best'),\n",
       "       fit_params=None, iid=True, n_jobs=-1,\n",
       "       param_grid=[{'criterion': ['gini', 'entropy'], 'min_samples_leaf': range(1, 10), 'min_samples_split': array([ 2,  4,  6,  8, 10, 12, 14, 16, 18, 20, 22, 24, 26, 28, 30])}],\n",
       "       pre_dispatch='2*n_jobs', refit=True, return_train_score=True,\n",
       "       scoring='accuracy', verbose=0)"
      ]
     },
     "execution_count": 41,
     "metadata": {},
     "output_type": "execute_result"
    }
   ],
   "source": [
    "from sklearn.model_selection import GridSearchCV\n",
    "grid_para_tree = [{\n",
    "    \"criterion\": [\"gini\", \"entropy\"],\n",
    "    \"min_samples_leaf\": range(1, 10),\n",
    "    \"min_samples_split\": np.linspace(start=2, stop=30, num=15, dtype=int)\n",
    "}]\n",
    "tree_model.set_params(random_state=108)\n",
    "grid_search_tree = GridSearchCV(tree_model, grid_para_tree, cv=5, scoring='accuracy', n_jobs=-1)\n",
    "%time grid_search_tree.fit(x_train, y_train)"
   ]
  },
  {
   "cell_type": "code",
   "execution_count": 42,
   "metadata": {},
   "outputs": [
    {
     "data": {
      "text/plain": [
       "{'criterion': 'entropy', 'min_samples_leaf': 2, 'min_samples_split': 30}"
      ]
     },
     "execution_count": 42,
     "metadata": {},
     "output_type": "execute_result"
    }
   ],
   "source": [
    "## best parameters\n",
    "grid_search_tree.best_params_"
   ]
  },
  {
   "cell_type": "code",
   "execution_count": 43,
   "metadata": {},
   "outputs": [
    {
     "data": {
      "text/plain": [
       "0.91434782608695653"
      ]
     },
     "execution_count": 43,
     "metadata": {},
     "output_type": "execute_result"
    }
   ],
   "source": [
    "## best score\n",
    "grid_search_tree.best_score_"
   ]
  },
  {
   "cell_type": "markdown",
   "metadata": {},
   "source": [
    "- The best \"min_samples_split\" is 30 here, while the default value is 2, which may overfit the training data and underestimate the test error.\n",
    "- It is necessary to use cross-validation method to choose the parameters."
   ]
  },
  {
   "cell_type": "code",
   "execution_count": 44,
   "metadata": {},
   "outputs": [
    {
     "data": {
      "text/plain": [
       "0.95434782608695656"
      ]
     },
     "execution_count": 44,
     "metadata": {},
     "output_type": "execute_result"
    }
   ],
   "source": [
    "## The overall accuracy on the training set:\n",
    "grid_search_tree.score(x_train, y_train)"
   ]
  },
  {
   "cell_type": "code",
   "execution_count": 45,
   "metadata": {},
   "outputs": [
    {
     "data": {
      "text/plain": [
       "0.90743155149934807"
      ]
     },
     "execution_count": 45,
     "metadata": {},
     "output_type": "execute_result"
    }
   ],
   "source": [
    "## The overall accuracy on the test set:\n",
    "grid_search_tree.score(x_test, y_test)"
   ]
  },
  {
   "cell_type": "markdown",
   "metadata": {},
   "source": [
    "<p><a name=\"2case4\"></a></p>\n",
    "### Case 4: Depth of Tree\n",
    "\n",
    "- The code below displays the learning curve. The training and the testing error are plotted against the depth of the trees."
   ]
  },
  {
   "cell_type": "code",
   "execution_count": 46,
   "metadata": {},
   "outputs": [
    {
     "data": {
      "image/png": "[encoded data removed]",
      "text/plain": [
       "<matplotlib.figure.Figure at 0x11e3d9940>"
      ]
     },
     "metadata": {},
     "output_type": "display_data"
    }
   ],
   "source": [
    "depth = range(5, 50)\n",
    "train_error = []\n",
    "test_error = []\n",
    "for i in depth:\n",
    "    tree_model.set_params(max_depth=i, min_samples_leaf=1)\n",
    "    tree_model.fit(x_train, y_train)\n",
    "    train_error.append(1 - tree_model.score(x_train, y_train))\n",
    "    test_error.append(1 - tree_model.score(x_test, y_test))\n",
    "\n",
    "import matplotlib.pyplot as plt\n",
    "plt.plot(depth, train_error, c='red', label='training error')\n",
    "plt.plot(depth, test_error, c='blue', label='test error')\n",
    "plt.ylim(0, 0.18)\n",
    "plt.legend()\n",
    "plt.show()"
   ]
  },
  {
   "cell_type": "markdown",
   "metadata": {},
   "source": [
    "As the depth of the tree increase:\n",
    "\n",
    "- The training error goes down.\n",
    "- The test error does not change too much.\n",
    "- For interpretability, it's better to choose a smaller tree."
   ]
  },
  {
   "cell_type": "markdown",
   "metadata": {},
   "source": [
    "### Decision Trees Pros and Cons\n",
    "\n",
    "- Pros:\n",
    "  - Interpretability: easier to explain than most other regression methods.\n",
    "  - Easy to handle qualitative predictors.\n",
    "  - Can be displayed graphically.\n",
    "- Cons:\n",
    "  - Instability: a small change in the data may result in a huge different splits.\n",
    "  - Predictive accuracy usually not as good as other approaches.\n",
    "- By aggregating many decision trees, the predictive performance can be improved substantially.\n"
   ]
  },
  {
   "cell_type": "markdown",
   "metadata": {},
   "source": [
    "<p><a name=\"rf\"></a></p>\n",
    "## Random Forest in Scikit Learn\n",
    "\n",
    "### Bagging\n",
    "\n",
    "By averaging a collection of bootstrap (repeated) samples from the training data set, we can dramatically reduce the variance of trees, leading to improved prediction, this is called bagging.\n",
    "\n",
    "- generate B bootstrapped training dataset.\n",
    "\n",
    "- for each test observation, we record the class predicted by each of the B trees, and choose the majority\n",
    "\n",
    "- the overall prediction is the most commonly occurring class among the B predictions.\n",
    "\n",
    "\n",
    "\n",
    "The function **ensemble.RandomForestClassifier** in library sklean can be used to implement random forest."
   ]
  },
  {
   "cell_type": "code",
   "execution_count": 47,
   "metadata": {
    "collapsed": true
   },
   "outputs": [],
   "source": [
    "from sklearn import ensemble\n",
    "randomForest = ensemble.RandomForestClassifier()"
   ]
  },
  {
   "cell_type": "markdown",
   "metadata": {},
   "source": [
    "### Arguments\n",
    "\n",
    "Since random forest is combined by decision trees, it also has the arguments of tree: \n",
    "\n",
    "- **criterion** : default=”gini”.\n",
    "- **max_depth**: default = None.\n",
    "- **min_samples_split**: default = 2.\n",
    "- **min_samples_leaf**: default = 1.\n",
    "- **n_estimators**: The number of trees. default=100.\n",
    "- **bootstrap**: Whether bootstrap samples are used when building trees. default=true.\n",
    "- **oob_score**: Whether to use out-of-bag samples to estimate the generalization error. default=false.\n",
    "\n",
    "### Methods\n",
    "\n",
    "- **fit**: Build a forest of trees from the training set (X, y).\n",
    "- **score**: Return the mean accuracy on the given test data and labels.\n",
    "- **predict**: Predict class for X.\n",
    "- **predict_log_proba**: Predict class log-probabilities for X.\n",
    "- **predict_proba**: Predict class probabilities for X.\n",
    "- **set_params**: Set the parameters of this estimator.\n",
    "- **get_params**: Get parameters for this estimator.\n",
    "\n",
    "### Attributes\n",
    "\n",
    "- **feature\\_importances\\_**:The feature importances (the higher, the more important the feature).\n",
    "\n",
    "- **oob\\_score\\_**: Score of the training dataset obtained using an out-of-bag estimate."
   ]
  },
  {
   "cell_type": "markdown",
   "metadata": {},
   "source": [
    "<p><a name=\"3case1\"></a></p>\n",
    "### Case 1: Iris Data"
   ]
  },
  {
   "cell_type": "markdown",
   "metadata": {},
   "source": [
    "We use all the observations and the last two features, \"petal length\" and \"petal width\", in the iris data to build a decision-tree."
   ]
  },
  {
   "cell_type": "code",
   "execution_count": 48,
   "metadata": {},
   "outputs": [
    {
     "data": {
      "text/plain": [
       "0.98666666666666669"
      ]
     },
     "execution_count": 48,
     "metadata": {},
     "output_type": "execute_result"
    }
   ],
   "source": [
    "randomForest.set_params(random_state=42)\n",
    "randomForest.fit(iris.data[:, 2:4], iris.target) # fit \n",
    "randomForest.score(iris.data[:, 2:4], iris.target) # accuracy"
   ]
  },
  {
   "cell_type": "code",
   "execution_count": 49,
   "metadata": {},
   "outputs": [
    {
     "data": {
      "image/png": "[encoded data removed]",
      "text/plain": [
       "<matplotlib.figure.Figure at 0x11a640da0>"
      ]
     },
     "metadata": {},
     "output_type": "display_data"
    }
   ],
   "source": [
    "plot_model(randomForest, iris.data[:, 2], iris.data[:, 3], iris.target)\n",
    "plt.xlabel('Petal Length')\n",
    "plt.ylabel('Petal Width')\n",
    "plt.show()"
   ]
  },
  {
   "cell_type": "markdown",
   "metadata": {},
   "source": [
    "The boundary of random forest is highly non-linear and hard to interpret."
   ]
  },
  {
   "cell_type": "markdown",
   "metadata": {},
   "source": [
    "<p><a name=\"3case2\"></a></p>\n",
    "### Case 2: Spam Filter\n",
    "\n",
    "In this case we fit a random forest on the spam data. We first prepare the data:"
   ]
  },
  {
   "cell_type": "code",
   "execution_count": 50,
   "metadata": {
    "collapsed": true
   },
   "outputs": [],
   "source": [
    "import pandas as pd\n",
    "from sklearn import model_selection\n",
    "spam_train = pd.read_csv('./data/spam_train.csv')\n",
    "spam_test = pd.read_csv('./data/spam_test.csv')\n",
    "x_train = np.array(spam_train.iloc[:, :57])\n",
    "y_train = np.array(spam_train.iloc[:, -1])\n",
    "x_test = np.array(spam_test.iloc[:, :57])\n",
    "y_test = np.array(spam_test.iloc[:, -1])"
   ]
  },
  {
   "cell_type": "code",
   "execution_count": 51,
   "metadata": {},
   "outputs": [
    {
     "name": "stdout",
     "output_type": "stream",
     "text": [
      "The training error of random forest is: 0.00043\n",
      "The test     error of random forest is: 0.05302\n"
     ]
    }
   ],
   "source": [
    "randomForest.set_params(n_estimators=50, random_state=42)\n",
    "randomForest.fit(x_train, y_train)\n",
    "print(\"The training error of random forest is: %.5f\" %(1 - randomForest.score(x_train, y_train)))\n",
    "print(\"The test     error of random forest is: %.5f\" %(1 - randomForest.score(x_test, y_test)))"
   ]
  },
  {
   "cell_type": "markdown",
   "metadata": {},
   "source": [
    "### Feature Importance\n",
    "\n",
    "- We then sort the features by importance:"
   ]
  },
  {
   "cell_type": "code",
   "execution_count": 52,
   "metadata": {},
   "outputs": [
    {
     "data": {
      "text/plain": [
       "array([(b'A.52',  0.10859347), (b'A.53',  0.1004286 ),\n",
       "       (b'A.7',  0.09234787), (b'A.16',  0.07137666),\n",
       "       (b'A.56',  0.06050948), (b'A.21',  0.04966204),\n",
       "       (b'A.55',  0.0480585 ), (b'A.25',  0.04353665),\n",
       "       (b'A.19',  0.03304565), (b'A.24',  0.02638849),\n",
       "       (b'A.5',  0.02226375), (b'A.3',  0.02061829),\n",
       "       (b'A.26',  0.01940852), (b'A.23',  0.01938681),\n",
       "       (b'A.27',  0.01836404), (b'A.46',  0.01483708),\n",
       "       (b'A.8',  0.01472056), (b'A.50',  0.01243138),\n",
       "       (b'A.17',  0.01134717), (b'A.37',  0.01090894),\n",
       "       (b'A.6',  0.01089926), (b'A.45',  0.01063103),\n",
       "       (b'A.12',  0.01038626), (b'A.10',  0.01032017),\n",
       "       (b'A.18',  0.009179  ), (b'A.2',  0.00837784),\n",
       "       (b'A.11',  0.00766406), (b'A.9',  0.00625979),\n",
       "       (b'A.1',  0.00604776), (b'A.28',  0.00572922),\n",
       "       (b'A.49',  0.00569843), (b'A.36',  0.00433482),\n",
       "       (b'A.13',  0.00421785), (b'A.39',  0.00405701),\n",
       "       (b'A.42',  0.00390765), (b'A.51',  0.00362165),\n",
       "       (b'A.35',  0.00351705), (b'A.54',  0.00347859),\n",
       "       (b'A.33',  0.00347054), (b'A.30',  0.00328461),\n",
       "       (b'A.20',  0.00233396), (b'A.31',  0.00192144),\n",
       "       (b'A.43',  0.00190528), (b'A.44',  0.00185385),\n",
       "       (b'A.22',  0.00180377), (b'A.41',  0.00155296),\n",
       "       (b'A.29',  0.00128153), (b'A.15',  0.00127629),\n",
       "       (b'A.48',  0.00116841), (b'A.14',  0.00104326),\n",
       "       (b'A.40',  0.00096732), (b'A.34',  0.00063197),\n",
       "       (b'A.38',  0.00045433), (b'A.4',  0.00037902),\n",
       "       (b'A.32',  0.000301  ), (b'A.47',  0.00027034)], \n",
       "      dtype=[('feature', 'S10'), ('importance', '<f8')])"
      ]
     },
     "execution_count": 52,
     "metadata": {},
     "output_type": "execute_result"
    }
   ],
   "source": [
    "feature_importance = list(zip(train.columns[:-2], randomForest.feature_importances_))\n",
    "dtype = [('feature', 'S10'), ('importance', 'float')]\n",
    "feature_importance = np.array(feature_importance, dtype=dtype)\n",
    "feature_sort = np.sort(feature_importance, order='importance')[::-1]\n",
    "feature_sort"
   ]
  },
  {
   "cell_type": "code",
   "execution_count": 53,
   "metadata": {},
   "outputs": [
    {
     "data": {
      "text/plain": [
       "[b'A.52',\n",
       " b'A.53',\n",
       " b'A.7',\n",
       " b'A.16',\n",
       " b'A.56',\n",
       " b'A.21',\n",
       " b'A.55',\n",
       " b'A.25',\n",
       " b'A.19',\n",
       " b'A.24']"
      ]
     },
     "execution_count": 53,
     "metadata": {},
     "output_type": "execute_result"
    }
   ],
   "source": [
    "## The first 10 most important features are:\n",
    "[i for (i, j) in feature_sort[0:10]]"
   ]
  },
  {
   "cell_type": "markdown",
   "metadata": {},
   "source": [
    "### OOB-Score\n",
    "\n",
    "- oob-score is the *out of bag* score, which is also used to evaluate the model.\n",
    "- After fitting on the bootstrap sample, it make predictions on the rest of the data set(out of the bootstrap sample).\n",
    "- We can not control the numbers of observations in the out of bag sample.\n",
    "\n",
    "We need to set *oob-score=true* manually when fit the model:"
   ]
  },
  {
   "cell_type": "code",
   "execution_count": 54,
   "metadata": {},
   "outputs": [
    {
     "data": {
      "text/plain": [
       "RandomForestClassifier(bootstrap=True, class_weight=None, criterion='gini',\n",
       "            max_depth=None, max_features='auto', max_leaf_nodes=None,\n",
       "            min_impurity_decrease=0.0, min_impurity_split=None,\n",
       "            min_samples_leaf=1, min_samples_split=2,\n",
       "            min_weight_fraction_leaf=0.0, n_estimators=50, n_jobs=1,\n",
       "            oob_score=True, random_state=42, verbose=0, warm_start=False)"
      ]
     },
     "execution_count": 54,
     "metadata": {},
     "output_type": "execute_result"
    }
   ],
   "source": [
    "randomForest.set_params(oob_score=True, random_state=42)\n",
    "randomForest.fit(x_train, y_train)"
   ]
  },
  {
   "cell_type": "code",
   "execution_count": 55,
   "metadata": {},
   "outputs": [
    {
     "data": {
      "text/plain": [
       "0.94173913043478263"
      ]
     },
     "execution_count": 55,
     "metadata": {},
     "output_type": "execute_result"
    }
   ],
   "source": [
    "randomForest.oob_score_"
   ]
  },
  {
   "cell_type": "markdown",
   "metadata": {},
   "source": [
    "<p><a name=\"3case3\"></a></p>\n",
    "### Case 3: Grid Search\n",
    "\n",
    "As for decision tree, we also need to decide several parameters by grid search. It might take longer for this one."
   ]
  },
  {
   "cell_type": "code",
   "execution_count": 56,
   "metadata": {},
   "outputs": [
    {
     "name": "stdout",
     "output_type": "stream",
     "text": [
      "CPU times: user 20.8 s, sys: 830 ms, total: 21.6 s\n",
      "Wall time: 9min 31s\n"
     ]
    },
    {
     "data": {
      "text/plain": [
       "GridSearchCV(cv=5, error_score='raise',\n",
       "       estimator=RandomForestClassifier(bootstrap=True, class_weight=None, criterion='gini',\n",
       "            max_depth=None, max_features='auto', max_leaf_nodes=None,\n",
       "            min_impurity_decrease=0.0, min_impurity_split=None,\n",
       "            min_samples_leaf=1, min_samples_split=2,\n",
       "            min_weight_fraction_leaf=0.0, n_estimators=50, n_jobs=1,\n",
       "            oob_score=True, random_state=42, verbose=0, warm_start=False),\n",
       "       fit_params=None, iid=True, n_jobs=-1,\n",
       "       param_grid=[{'n_estimators': [25, 50, 100], 'criterion': ['gini', 'entropy'], 'min_samples_leaf': range(1, 10), 'min_samples_split': array([ 2,  4,  6,  8, 10, 12, 14, 16, 18, 20, 22, 24, 26, 28, 30]), 'random_state': [42]}],\n",
       "       pre_dispatch='2*n_jobs', refit=True, return_train_score=True,\n",
       "       scoring='accuracy', verbose=0)"
      ]
     },
     "execution_count": 56,
     "metadata": {},
     "output_type": "execute_result"
    }
   ],
   "source": [
    "grid_para_forest = [{\n",
    "    \"n_estimators\": [25, 50, 100],\n",
    "    \"criterion\": [\"gini\", \"entropy\"],\n",
    "    \"min_samples_leaf\": range(1, 10),\n",
    "    \"min_samples_split\": np.linspace(start=2, stop=30, num=15, dtype=int),\n",
    "    \"random_state\": [42]}]\n",
    "grid_search_forest = GridSearchCV(randomForest, grid_para_forest, scoring='accuracy', cv=5, n_jobs=-1)\n",
    "%time grid_search_forest.fit(x_train, y_train)"
   ]
  },
  {
   "cell_type": "code",
   "execution_count": 57,
   "metadata": {},
   "outputs": [
    {
     "data": {
      "text/plain": [
       "{'criterion': 'entropy',\n",
       " 'min_samples_leaf': 1,\n",
       " 'min_samples_split': 4,\n",
       " 'n_estimators': 100,\n",
       " 'random_state': 42}"
      ]
     },
     "execution_count": 57,
     "metadata": {},
     "output_type": "execute_result"
    }
   ],
   "source": [
    "grid_search_forest.best_params_"
   ]
  },
  {
   "cell_type": "code",
   "execution_count": 58,
   "metadata": {},
   "outputs": [
    {
     "data": {
      "text/plain": [
       "0.94739130434782604"
      ]
     },
     "execution_count": 58,
     "metadata": {},
     "output_type": "execute_result"
    }
   ],
   "source": [
    "grid_search_forest.best_score_"
   ]
  },
  {
   "cell_type": "code",
   "execution_count": 59,
   "metadata": {},
   "outputs": [
    {
     "name": "stdout",
     "output_type": "stream",
     "text": [
      "The training error is: 0.00304\n",
      "The test     error is: 0.05476\n"
     ]
    }
   ],
   "source": [
    "print(\"The training error is: %.5f\" % (1 - grid_search_forest.score(x_train, y_train)))\n",
    "print(\"The test     error is: %.5f\" % (1 - grid_search_forest.score(x_test, y_test)))"
   ]
  },
  {
   "cell_type": "markdown",
   "metadata": {},
   "source": [
    "<p><a name=\"3case4\"></a></p>\n",
    "### Case 4: Number of Trees\n",
    "\n",
    "- We plot the errors against the number of trees:"
   ]
  },
  {
   "cell_type": "code",
   "execution_count": 60,
   "metadata": {
    "collapsed": true
   },
   "outputs": [],
   "source": [
    "n_trees_range = range(30, 500, 10)  # OOB score will warning if too few trees\n",
    "train_error2 = []\n",
    "test_error2 = []\n",
    "oob_error = []\n",
    "\n",
    "for n_trees in n_trees_range:\n",
    "    randomForest.set_params(n_estimators=n_trees, random_state=42, oob_score=True)\n",
    "    randomForest.fit(x_train, y_train)\n",
    "    train_error2.append(1 - randomForest.score(x_train, y_train))\n",
    "    test_error2.append(1 - randomForest.score(x_test, y_test))\n",
    "    oob_error.append(1 - randomForest.oob_score_)"
   ]
  },
  {
   "cell_type": "markdown",
   "metadata": {},
   "source": [
    "We see that\n",
    "- The OOB error is very close to the test error.\n",
    "- The training error is much smaller than the OOB error and the test error."
   ]
  },
  {
   "cell_type": "code",
   "execution_count": 61,
   "metadata": {},
   "outputs": [
    {
     "data": {
      "image/png": "[encoded data removed]",
      "text/plain": [
       "<matplotlib.figure.Figure at 0x11daa9f98>"
      ]
     },
     "metadata": {},
     "output_type": "display_data"
    }
   ],
   "source": [
    "import matplotlib.pyplot as plt\n",
    "plt.plot(n_trees_range, train_error2, c='red', label='training error')\n",
    "plt.plot(n_trees_range, test_error2, c='blue', label='test error')\n",
    "plt.plot(n_trees_range, oob_error, c='pink', label='oob error')\n",
    "plt.ylabel('Error')\n",
    "plt.xlabel('Number of trees')\n",
    "plt.legend()\n",
    "plt.show()"
   ]
  },
  {
   "cell_type": "markdown",
   "metadata": {},
   "source": [
    "Strengths:\n",
    "- An all-purpose model that performs well on most problems.\n",
    "- Can be used on data with an extremely large number of features. And it automatically selects the most important features.\n",
    "- High accuracy.\n",
    "\n",
    "Weaknesses:\n",
    "- Unlike a decision tree, the model is hard to interpret.\n",
    "- May require some work to tune the parameters.\n"
   ]
  },
  {
   "cell_type": "code",
   "execution_count": null,
   "metadata": {
    "collapsed": true
   },
   "outputs": [],
   "source": []
  }
 ],
 "metadata": {
  "kernelspec": {
   "display_name": "Python 2",
   "language": "python",
   "name": "python2"
  },
  "language_info": {
   "codemirror_mode": {
    "name": "ipython",
    "version": 2
   },
   "file_extension": ".py",
   "mimetype": "text/x-python",
   "name": "python",
   "nbconvert_exporter": "python",
   "pygments_lexer": "ipython2",
   "version": "2.7.13"
  }
 },
 "nbformat": 4,
 "nbformat_minor": 1
}
